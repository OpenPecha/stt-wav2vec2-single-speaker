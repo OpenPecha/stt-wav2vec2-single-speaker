{
 "cells": [
  {
   "cell_type": "code",
   "execution_count": null,
   "metadata": {},
   "outputs": [],
   "source": [
    "!pip install evaluate jiwer"
   ]
  },
  {
   "cell_type": "code",
   "execution_count": 4,
   "metadata": {},
   "outputs": [],
   "source": [
    "import pandas as pd \n",
    "\n",
    "df = pd.read_csv(\"processed_test.csv\")"
   ]
  },
  {
   "cell_type": "code",
   "execution_count": 5,
   "metadata": {},
   "outputs": [
    {
     "data": {
      "text/html": [
       "<div>\n",
       "<style scoped>\n",
       "    .dataframe tbody tr th:only-of-type {\n",
       "        vertical-align: middle;\n",
       "    }\n",
       "\n",
       "    .dataframe tbody tr th {\n",
       "        vertical-align: top;\n",
       "    }\n",
       "\n",
       "    .dataframe thead th {\n",
       "        text-align: right;\n",
       "    }\n",
       "</style>\n",
       "<table border=\"1\" class=\"dataframe\">\n",
       "  <thead>\n",
       "    <tr style=\"text-align: right;\">\n",
       "      <th></th>\n",
       "      <th>file_name</th>\n",
       "      <th>uni</th>\n",
       "      <th>wylie</th>\n",
       "      <th>url</th>\n",
       "      <th>dept</th>\n",
       "      <th>grade</th>\n",
       "      <th>char_len</th>\n",
       "      <th>audio_len</th>\n",
       "      <th>__index_level_0__</th>\n",
       "      <th>inference_ft</th>\n",
       "      <th>inference_base_model</th>\n",
       "    </tr>\n",
       "  </thead>\n",
       "  <tbody>\n",
       "    <tr>\n",
       "      <th>0</th>\n",
       "      <td>STT_TT_D009_1178_3206938_to_3210062</td>\n",
       "      <td>དེ། བྱང་ཆུབ་སེམས་དཔའི་སྤྱོད་པ་རང་ཤུགས་ཀྱིས་རེད...</td>\n",
       "      <td>de/_byang chub sems dpa'i spyod pa rang shugs ...</td>\n",
       "      <td>https://d38pmlk0v88drf.cloudfront.net/wav16k/S...</td>\n",
       "      <td>STT_TT</td>\n",
       "      <td>1</td>\n",
       "      <td>75</td>\n",
       "      <td>3.12</td>\n",
       "      <td>7442</td>\n",
       "      <td>དེ་ནས། བྱང་ཆུབ་སེམས་དཔའི་སྤྱོད་པ་རང་ཤུགས་ཀྱིས་...</td>\n",
       "      <td>དེ་གཞོང་ཆི་ཟེར་ནས་སྤྱོད་པ་རང་ཤུགས་ཀི་རེད་དེ་ཟེ...</td>\n",
       "    </tr>\n",
       "    <tr>\n",
       "      <th>1</th>\n",
       "      <td>STT_TT_D011_0237_888370_to_896030</td>\n",
       "      <td>དྲུག་པོ་དེ་གང་རེད་ཟེར་ན། རང་གི་གདམས་ངག་དེ་སངས་...</td>\n",
       "      <td>drug po de gang red zer na/_rang gi gdams ngag...</td>\n",
       "      <td>https://d38pmlk0v88drf.cloudfront.net/wav16k/S...</td>\n",
       "      <td>STT_TT</td>\n",
       "      <td>1</td>\n",
       "      <td>73</td>\n",
       "      <td>7.66</td>\n",
       "      <td>9462</td>\n",
       "      <td>ད་ཚིག་དི་གང་གེད་ཟེར་ན། དེ་རང་གི་དོན་ངག་དེ་ལ་ཐི...</td>\n",
       "      <td>འོང་དུ་ྱོན་ནས། དེ་འོང་གི་གམ་ན་དེ་རེད་། ཧཧ བུ་མ...</td>\n",
       "    </tr>\n",
       "    <tr>\n",
       "      <th>2</th>\n",
       "      <td>STT_TT_D006_0469_1930611_to_1934366</td>\n",
       "      <td>ཞི་རྒྱས་དབང་དྲག་གི་འཕྲིན་ལས་ཤུགས་ཀྱིས་འགྲུབ་མ་...</td>\n",
       "      <td>zhi rgyas dbang drag gi 'phrin las shugs kyis ...</td>\n",
       "      <td>https://d38pmlk0v88drf.cloudfront.net/wav16k/S...</td>\n",
       "      <td>STT_TT</td>\n",
       "      <td>1</td>\n",
       "      <td>74</td>\n",
       "      <td>3.75</td>\n",
       "      <td>4048</td>\n",
       "      <td>ཞི་རྒྱས་དབང་དྲག་གིས་ཕྲིན་ལས་ཤུགས་ཀྱི་འགྲུབ་མ་ག...</td>\n",
       "      <td>བྱེད་རྒྱུའ་དབུང་རབ་ཀི་ཕྲིན་གླེང་ཤུགས་ྱི་འགྲོ་བ...</td>\n",
       "    </tr>\n",
       "    <tr>\n",
       "      <th>3</th>\n",
       "      <td>STT_TT_D011_0545_2053199_to_2057540</td>\n",
       "      <td>ལྟོ་གོས་ལ་སོགས་པ་རྙེད་ནའང་ཚོགས་ཀྱི་འཁོར་ལོ་འགྱ...</td>\n",
       "      <td>lto gos la sogs pa rnyed na'ang tshogs kyi 'kh...</td>\n",
       "      <td>https://d38pmlk0v88drf.cloudfront.net/wav16k/S...</td>\n",
       "      <td>STT_TT</td>\n",
       "      <td>1</td>\n",
       "      <td>78</td>\n",
       "      <td>4.34</td>\n",
       "      <td>9770</td>\n",
       "      <td>ལྟོ་གུས་ལ་སོགས་པ་རྙད་ནའང་ཆིག་ྱང་ཁོན་དུ་དགེ་བང་...</td>\n",
       "      <td>ཨོ་ཁུའ་ལ་ྲེད་ད་དེ་དའ་ནང་ཕྱུས་ཀི་ཕོག་དེ་སྐྱེས་པ...</td>\n",
       "    </tr>\n",
       "    <tr>\n",
       "      <th>4</th>\n",
       "      <td>STT_TT_D007_0025_107628_to_109458</td>\n",
       "      <td>ཆོས་རྣམ་པར་དག་པ་བསྒྲུབ་རྒྱུ་རེད།</td>\n",
       "      <td>chos rnam par dag pa bsgrub rgyu red/__</td>\n",
       "      <td>https://d38pmlk0v88drf.cloudfront.net/wav16k/S...</td>\n",
       "      <td>STT_TT</td>\n",
       "      <td>1</td>\n",
       "      <td>34</td>\n",
       "      <td>1.83</td>\n",
       "      <td>4281</td>\n",
       "      <td>ཆོས་རྣམ་པར་དག་པ་སྒྲུབ་རྒྱུ་རེདས།</td>\n",
       "      <td>ཆོས་སྣོམ་པ་རྟོགས་ཕར་འགྲུ་ྒྱི་རེད།</td>\n",
       "    </tr>\n",
       "  </tbody>\n",
       "</table>\n",
       "</div>"
      ],
      "text/plain": [
       "                             file_name  \\\n",
       "0  STT_TT_D009_1178_3206938_to_3210062   \n",
       "1    STT_TT_D011_0237_888370_to_896030   \n",
       "2  STT_TT_D006_0469_1930611_to_1934366   \n",
       "3  STT_TT_D011_0545_2053199_to_2057540   \n",
       "4    STT_TT_D007_0025_107628_to_109458   \n",
       "\n",
       "                                                 uni  \\\n",
       "0  དེ། བྱང་ཆུབ་སེམས་དཔའི་སྤྱོད་པ་རང་ཤུགས་ཀྱིས་རེད...   \n",
       "1  དྲུག་པོ་དེ་གང་རེད་ཟེར་ན། རང་གི་གདམས་ངག་དེ་སངས་...   \n",
       "2  ཞི་རྒྱས་དབང་དྲག་གི་འཕྲིན་ལས་ཤུགས་ཀྱིས་འགྲུབ་མ་...   \n",
       "3  ལྟོ་གོས་ལ་སོགས་པ་རྙེད་ནའང་ཚོགས་ཀྱི་འཁོར་ལོ་འགྱ...   \n",
       "4                 ཆོས་རྣམ་པར་དག་པ་བསྒྲུབ་རྒྱུ་རེད།     \n",
       "\n",
       "                                               wylie  \\\n",
       "0  de/_byang chub sems dpa'i spyod pa rang shugs ...   \n",
       "1  drug po de gang red zer na/_rang gi gdams ngag...   \n",
       "2  zhi rgyas dbang drag gi 'phrin las shugs kyis ...   \n",
       "3  lto gos la sogs pa rnyed na'ang tshogs kyi 'kh...   \n",
       "4            chos rnam par dag pa bsgrub rgyu red/__   \n",
       "\n",
       "                                                 url    dept  grade  char_len  \\\n",
       "0  https://d38pmlk0v88drf.cloudfront.net/wav16k/S...  STT_TT      1        75   \n",
       "1  https://d38pmlk0v88drf.cloudfront.net/wav16k/S...  STT_TT      1        73   \n",
       "2  https://d38pmlk0v88drf.cloudfront.net/wav16k/S...  STT_TT      1        74   \n",
       "3  https://d38pmlk0v88drf.cloudfront.net/wav16k/S...  STT_TT      1        78   \n",
       "4  https://d38pmlk0v88drf.cloudfront.net/wav16k/S...  STT_TT      1        34   \n",
       "\n",
       "   audio_len  __index_level_0__  \\\n",
       "0       3.12               7442   \n",
       "1       7.66               9462   \n",
       "2       3.75               4048   \n",
       "3       4.34               9770   \n",
       "4       1.83               4281   \n",
       "\n",
       "                                        inference_ft  \\\n",
       "0  དེ་ནས། བྱང་ཆུབ་སེམས་དཔའི་སྤྱོད་པ་རང་ཤུགས་ཀྱིས་...   \n",
       "1  ད་ཚིག་དི་གང་གེད་ཟེར་ན། དེ་རང་གི་དོན་ངག་དེ་ལ་ཐི...   \n",
       "2  ཞི་རྒྱས་དབང་དྲག་གིས་ཕྲིན་ལས་ཤུགས་ཀྱི་འགྲུབ་མ་ག...   \n",
       "3  ལྟོ་གུས་ལ་སོགས་པ་རྙད་ནའང་ཆིག་ྱང་ཁོན་དུ་དགེ་བང་...   \n",
       "4                   ཆོས་རྣམ་པར་དག་པ་སྒྲུབ་རྒྱུ་རེདས།   \n",
       "\n",
       "                                inference_base_model  \n",
       "0  དེ་གཞོང་ཆི་ཟེར་ནས་སྤྱོད་པ་རང་ཤུགས་ཀི་རེད་དེ་ཟེ...  \n",
       "1  འོང་དུ་ྱོན་ནས། དེ་འོང་གི་གམ་ན་དེ་རེད་། ཧཧ བུ་མ...  \n",
       "2  བྱེད་རྒྱུའ་དབུང་རབ་ཀི་ཕྲིན་གླེང་ཤུགས་ྱི་འགྲོ་བ...  \n",
       "3  ཨོ་ཁུའ་ལ་ྲེད་ད་དེ་དའ་ནང་ཕྱུས་ཀི་ཕོག་དེ་སྐྱེས་པ...  \n",
       "4                  ཆོས་སྣོམ་པ་རྟོགས་ཕར་འགྲུ་ྒྱི་རེད།  "
      ]
     },
     "execution_count": 5,
     "metadata": {},
     "output_type": "execute_result"
    }
   ],
   "source": [
    "df.head()"
   ]
  },
  {
   "cell_type": "code",
   "execution_count": 6,
   "metadata": {},
   "outputs": [
    {
     "data": {
      "text/plain": [
       "Index(['file_name', 'uni', 'wylie', 'url', 'dept', 'grade', 'char_len',\n",
       "       'audio_len', '__index_level_0__', 'inference_ft',\n",
       "       'inference_base_model'],\n",
       "      dtype='object')"
      ]
     },
     "execution_count": 6,
     "metadata": {},
     "output_type": "execute_result"
    }
   ],
   "source": [
    "df.columns"
   ]
  },
  {
   "cell_type": "code",
   "execution_count": 7,
   "metadata": {},
   "outputs": [],
   "source": [
    "from evaluate import load\n",
    "\n",
    "cer_metric = load(\"cer\")"
   ]
  },
  {
   "cell_type": "code",
   "execution_count": 8,
   "metadata": {},
   "outputs": [
    {
     "name": "stdout",
     "output_type": "stream",
     "text": [
      "དེ་ཆགས་སྡང་གི་གྲོགས་སུ་མི་སོང་བ་སྒྱུ་མ་དང་རྨི་ལམ་ལྟ་བུའི་རང་བཞིན་དུ་ཤེས་པ་ཡིན།  \n",
      "དེ་ཆགས་སྡང་གི་གྲོགས་སུ་མ་སཏོང་བ་སྒྱུ་མ་དང་རྨི་ལམ་ལྟ་བུའི་རང་བཞིན་དུ་ཤེས་པ་ཡིན།\n",
      "0.02564102564102564\n"
     ]
    }
   ],
   "source": [
    "rand_index = 5\n",
    "print(df.loc[rand_index, 'uni'])\n",
    "print(df.loc[rand_index, 'inference_ft'])\n",
    "cer = cer_metric.compute(references=[df.loc[rand_index, 'uni']], predictions=[df.loc[rand_index, 'inference_ft']])\n",
    "\n",
    "print(cer)"
   ]
  },
  {
   "cell_type": "code",
   "execution_count": 9,
   "metadata": {},
   "outputs": [],
   "source": [
    "def calculate_cer_ft(row):\n",
    "    try:\n",
    "        uni = row['uni']\n",
    "        inf_uni = row['inference_ft']\n",
    "        cer = cer_metric.compute(references=[uni], predictions=[inf_uni])\n",
    "        cer = min(cer, 1.0)\n",
    "        return cer\n",
    "    except:\n",
    "        return 0.0"
   ]
  },
  {
   "cell_type": "code",
   "execution_count": 10,
   "metadata": {},
   "outputs": [],
   "source": [
    "def calculate_cer_base(row):\n",
    "    try:\n",
    "        uni = row['uni']\n",
    "        inf_uni = row['inference_base_model']\n",
    "        cer = cer_metric.compute(references=[uni], predictions=[inf_uni])\n",
    "        cer = min(cer, 1.0)\n",
    "        return cer\n",
    "    except:\n",
    "        return 0.0"
   ]
  },
  {
   "cell_type": "code",
   "execution_count": 11,
   "metadata": {},
   "outputs": [],
   "source": [
    "df['cer_ft'] = df.apply(lambda row: calculate_cer_ft(row), axis=1)\n"
   ]
  },
  {
   "cell_type": "code",
   "execution_count": 12,
   "metadata": {},
   "outputs": [],
   "source": [
    "df['cer_base'] = df.apply(lambda row: calculate_cer_base(row), axis=1)\n"
   ]
  },
  {
   "cell_type": "code",
   "execution_count": 13,
   "metadata": {},
   "outputs": [
    {
     "name": "stdout",
     "output_type": "stream",
     "text": [
      "0.2043059735667396\n"
     ]
    }
   ],
   "source": [
    "print(df['cer_ft'].mean())\n"
   ]
  },
  {
   "cell_type": "code",
   "execution_count": 14,
   "metadata": {},
   "outputs": [
    {
     "name": "stdout",
     "output_type": "stream",
     "text": [
      "0.4753837757987753\n"
     ]
    }
   ],
   "source": [
    "print(df['cer_base'].mean())"
   ]
  },
  {
   "cell_type": "code",
   "execution_count": 15,
   "metadata": {},
   "outputs": [
    {
     "data": {
      "text/html": [
       "<div>\n",
       "<style scoped>\n",
       "    .dataframe tbody tr th:only-of-type {\n",
       "        vertical-align: middle;\n",
       "    }\n",
       "\n",
       "    .dataframe tbody tr th {\n",
       "        vertical-align: top;\n",
       "    }\n",
       "\n",
       "    .dataframe thead th {\n",
       "        text-align: right;\n",
       "    }\n",
       "</style>\n",
       "<table border=\"1\" class=\"dataframe\">\n",
       "  <thead>\n",
       "    <tr style=\"text-align: right;\">\n",
       "      <th></th>\n",
       "      <th>cer_ft</th>\n",
       "    </tr>\n",
       "    <tr>\n",
       "      <th>dept</th>\n",
       "      <th></th>\n",
       "    </tr>\n",
       "  </thead>\n",
       "  <tbody>\n",
       "    <tr>\n",
       "      <th>STT_TT</th>\n",
       "      <td>0.204306</td>\n",
       "    </tr>\n",
       "  </tbody>\n",
       "</table>\n",
       "</div>"
      ],
      "text/plain": [
       "          cer_ft\n",
       "dept            \n",
       "STT_TT  0.204306"
      ]
     },
     "execution_count": 15,
     "metadata": {},
     "output_type": "execute_result"
    }
   ],
   "source": [
    "df[['dept', 'cer_ft']].groupby('dept').mean('cer_ft')"
   ]
  },
  {
   "cell_type": "code",
   "execution_count": 16,
   "metadata": {},
   "outputs": [
    {
     "data": {
      "text/html": [
       "<div>\n",
       "<style scoped>\n",
       "    .dataframe tbody tr th:only-of-type {\n",
       "        vertical-align: middle;\n",
       "    }\n",
       "\n",
       "    .dataframe tbody tr th {\n",
       "        vertical-align: top;\n",
       "    }\n",
       "\n",
       "    .dataframe thead th {\n",
       "        text-align: right;\n",
       "    }\n",
       "</style>\n",
       "<table border=\"1\" class=\"dataframe\">\n",
       "  <thead>\n",
       "    <tr style=\"text-align: right;\">\n",
       "      <th></th>\n",
       "      <th>cer_base</th>\n",
       "    </tr>\n",
       "    <tr>\n",
       "      <th>dept</th>\n",
       "      <th></th>\n",
       "    </tr>\n",
       "  </thead>\n",
       "  <tbody>\n",
       "    <tr>\n",
       "      <th>STT_TT</th>\n",
       "      <td>0.475384</td>\n",
       "    </tr>\n",
       "  </tbody>\n",
       "</table>\n",
       "</div>"
      ],
      "text/plain": [
       "        cer_base\n",
       "dept            \n",
       "STT_TT  0.475384"
      ]
     },
     "execution_count": 16,
     "metadata": {},
     "output_type": "execute_result"
    }
   ],
   "source": [
    "df[['dept', 'cer_base']].groupby('dept').mean('cer_base')"
   ]
  },
  {
   "cell_type": "code",
   "execution_count": 17,
   "metadata": {},
   "outputs": [
    {
     "data": {
      "text/html": [
       "<div>\n",
       "<style scoped>\n",
       "    .dataframe tbody tr th:only-of-type {\n",
       "        vertical-align: middle;\n",
       "    }\n",
       "\n",
       "    .dataframe tbody tr th {\n",
       "        vertical-align: top;\n",
       "    }\n",
       "\n",
       "    .dataframe thead th {\n",
       "        text-align: right;\n",
       "    }\n",
       "</style>\n",
       "<table border=\"1\" class=\"dataframe\">\n",
       "  <thead>\n",
       "    <tr style=\"text-align: right;\">\n",
       "      <th></th>\n",
       "      <th>mean_cer</th>\n",
       "      <th>count</th>\n",
       "    </tr>\n",
       "    <tr>\n",
       "      <th>dept</th>\n",
       "      <th></th>\n",
       "      <th></th>\n",
       "    </tr>\n",
       "  </thead>\n",
       "  <tbody>\n",
       "    <tr>\n",
       "      <th>STT_TT</th>\n",
       "      <td>0.204306</td>\n",
       "      <td>1165</td>\n",
       "    </tr>\n",
       "  </tbody>\n",
       "</table>\n",
       "</div>"
      ],
      "text/plain": [
       "        mean_cer  count\n",
       "dept                   \n",
       "STT_TT  0.204306   1165"
      ]
     },
     "execution_count": 17,
     "metadata": {},
     "output_type": "execute_result"
    }
   ],
   "source": [
    "df.groupby('dept').agg(mean_cer=('cer_ft', 'mean'), count=('cer_ft', 'size'))\n"
   ]
  },
  {
   "cell_type": "code",
   "execution_count": 18,
   "metadata": {},
   "outputs": [
    {
     "data": {
      "text/html": [
       "<div>\n",
       "<style scoped>\n",
       "    .dataframe tbody tr th:only-of-type {\n",
       "        vertical-align: middle;\n",
       "    }\n",
       "\n",
       "    .dataframe tbody tr th {\n",
       "        vertical-align: top;\n",
       "    }\n",
       "\n",
       "    .dataframe thead th {\n",
       "        text-align: right;\n",
       "    }\n",
       "</style>\n",
       "<table border=\"1\" class=\"dataframe\">\n",
       "  <thead>\n",
       "    <tr style=\"text-align: right;\">\n",
       "      <th></th>\n",
       "      <th>mean_cer</th>\n",
       "      <th>count</th>\n",
       "    </tr>\n",
       "    <tr>\n",
       "      <th>dept</th>\n",
       "      <th></th>\n",
       "      <th></th>\n",
       "    </tr>\n",
       "  </thead>\n",
       "  <tbody>\n",
       "    <tr>\n",
       "      <th>STT_TT</th>\n",
       "      <td>0.475384</td>\n",
       "      <td>1165</td>\n",
       "    </tr>\n",
       "  </tbody>\n",
       "</table>\n",
       "</div>"
      ],
      "text/plain": [
       "        mean_cer  count\n",
       "dept                   \n",
       "STT_TT  0.475384   1165"
      ]
     },
     "execution_count": 18,
     "metadata": {},
     "output_type": "execute_result"
    }
   ],
   "source": [
    "df.groupby('dept').agg(mean_cer=('cer_base', 'mean'), count=('cer_base', 'size'))\n"
   ]
  },
  {
   "cell_type": "code",
   "execution_count": null,
   "metadata": {},
   "outputs": [],
   "source": []
  }
 ],
 "metadata": {
  "kernelspec": {
   "display_name": "jupyter-base",
   "language": "python",
   "name": "jupyter-base"
  },
  "language_info": {
   "codemirror_mode": {
    "name": "ipython",
    "version": 3
   },
   "file_extension": ".py",
   "mimetype": "text/x-python",
   "name": "python",
   "nbconvert_exporter": "python",
   "pygments_lexer": "ipython3",
   "version": "3.11.9"
  }
 },
 "nbformat": 4,
 "nbformat_minor": 4
}
