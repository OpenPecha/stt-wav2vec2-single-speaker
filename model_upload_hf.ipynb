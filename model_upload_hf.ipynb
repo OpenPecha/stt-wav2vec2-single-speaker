{
 "cells": [
  {
   "cell_type": "code",
   "execution_count": null,
   "metadata": {},
   "outputs": [],
   "source": [
    "from transformers import Wav2Vec2Processor\n",
    "from transformers import Wav2Vec2ForCTC\n",
    "\n",
    "#load the model with best checkpoint\n",
    "model = Wav2Vec2ForCTC.from_pretrained(\"./specific_speaker_model/Checkpoint-58000\")\n",
    "#load the base model processor since it is same for base model and finetuned model\n",
    "processor = Wav2Vec2Processor.from_pretrained(\"ganga4364/mms_300_v4.96000\")\n"
   ]
  },
  {
   "cell_type": "code",
   "execution_count": null,
   "metadata": {},
   "outputs": [],
   "source": [
    "from huggingface_hub import notebook_login\n",
    "\n",
    "notebook_login()"
   ]
  },
  {
   "cell_type": "code",
   "execution_count": null,
   "metadata": {},
   "outputs": [],
   "source": [
    "model_name = \"ganga4364/mms_300_khentse_Rinpoche-Checkpoint-58000\"\n",
    "model.push_to_hub(    model_name)\n",
    "processor.push_to_hub(model_name)"
   ]
  }
 ],
 "metadata": {
  "kernelspec": {
   "display_name": "jupyter-base",
   "language": "python",
   "name": "jupyter-base"
  },
  "language_info": {
   "name": "python",
   "version": "3.11.9"
  }
 },
 "nbformat": 4,
 "nbformat_minor": 2
}
