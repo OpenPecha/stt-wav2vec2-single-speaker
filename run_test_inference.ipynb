{
 "cells": [
  {
   "cell_type": "code",
   "execution_count": null,
   "metadata": {},
   "outputs": [],
   "source": [
    "import pandas as pd\n",
    "from datasets import load_dataset\n",
    "\n",
    "# Load the dataset\n",
    "dataset = load_dataset(\"ganga4364/Dilgo-Khyentse-Rinpoche-dataset\")\n",
    "\n",
    "test_df = dataset[\"test\"].to_pandas()\n",
    "test_df.to_csv('test.csv', index=False)"
   ]
  },
  {
   "cell_type": "code",
   "execution_count": null,
   "metadata": {},
   "outputs": [],
   "source": [
    "import os\n",
    "import pandas as pd\n",
    "from tqdm import tqdm\n",
    "from transformers import pipeline\n",
    "from datasets import Dataset, Audio\n",
    "import logging\n",
    "import requests\n",
    "\n",
    "# Configure logging\n",
    "logging.basicConfig(filename='failed_downloads.log', level=logging.ERROR, format='%(asctime)s - %(message)s')\n",
    "\n",
    "# Initialize generator pipelines\n",
    "generator1 = pipeline(task=\"automatic-speech-recognition\", model=\"ganga4364/mms_300_khentse_Rinpoche-Checkpoint-58000\")\n",
    "generator2 = pipeline(task=\"automatic-speech-recognition\", model=\"ganga4364/mms_300_v4.96000\")\n",
    "\n",
    "# Function to download and validate audio\n",
    "def download_audio(row):\n",
    "    file_name = os.path.basename(row[\"url\"])\n",
    "    save_path = f\"./downloads/{file_name}\"\n",
    "    os.makedirs(os.path.dirname(save_path), exist_ok=True)\n",
    "\n",
    "    if os.path.exists(save_path):  # Skip if file exists\n",
    "        return save_path\n",
    "\n",
    "    try:\n",
    "        response = requests.get(row[\"url\"], timeout=10)\n",
    "        response.raise_for_status()  # Check for HTTP errors\n",
    "        with open(save_path, 'wb') as f:\n",
    "            f.write(response.content)\n",
    "        return save_path\n",
    "\n",
    "    except Exception as e:\n",
    "        logging.error(f\"Failed to download {row['file_name']}: {e}\")\n",
    "        return None  # Return None if download failed\n",
    "\n",
    "# Function to process inference in batches\n",
    "def process_inference(batch):\n",
    "    # Perform inference with generator1\n",
    "    results1 = generator1(batch[\"audio\"][\"array\"])\n",
    "    batch[\"inference_ft\"] = [result[\"text\"] for result in results1]\n",
    "\n",
    "    # Perform inference with generator2\n",
    "    results2 = generator2(batch[\"audio\"][\"array\"])\n",
    "    batch[\"inference_base_model\"] = [result[\"text\"] for result in results2]\n",
    "\n",
    "    return batch\n"
   ]
  },
  {
   "cell_type": "code",
   "execution_count": null,
   "metadata": {},
   "outputs": [],
   "source": [
    "#path to test file\n",
    "input_file = \"test.csv\"\n",
    "output_dir = \"chunks_test\"\n",
    "output_file = \"processed_test.csv\"\n",
    "\n",
    "os.makedirs(output_dir, exist_ok=True)"
   ]
  },
  {
   "cell_type": "code",
   "execution_count": null,
   "metadata": {},
   "outputs": [],
   "source": [
    "\n",
    "for i, chunk in enumerate(pd.read_csv(input_file, chunksize=1000), start=1):\n",
    "    if chunk.empty:\n",
    "        print(f\"Chunk {i} is empty. Skipping.\")\n",
    "        continue\n",
    "\n",
    "    chunk_file = os.path.join(output_dir, f\"chunk_{i}.csv\")\n",
    "    if os.path.exists(chunk_file):\n",
    "        print(f\"Skipping chunk {i}, already processed.\")\n",
    "        continue\n",
    "\n",
    "    tqdm.pandas(desc=\"Downloading audio files\")\n",
    "    chunk[\"path\"] = chunk.progress_apply(download_audio, axis=1)\n",
    "    chunk = chunk[chunk[\"path\"].notnull()]  # Remove rows with failed downloads\n",
    "\n",
    "    # Reset index to avoid duplicate field errors\n",
    "    chunk.reset_index(drop=True, inplace=True)\n",
    "\n",
    "    # Convert to Dataset\n",
    "    dataset = Dataset.from_pandas(chunk)\n",
    "    dataset = dataset.cast_column(\"path\", Audio())\n",
    "\n",
    "    # Perform batched inference\n",
    "    dataset = dataset.map(process_inference, batched=True, batch_size=8)\n",
    "\n",
    "    # Save processed chunk to CSV\n",
    "    dataset.to_pandas().to_csv(chunk_file, index=False)\n",
    "    print(f\"Saved chunk {i} to {chunk_file}\")\n"
   ]
  },
  {
   "cell_type": "code",
   "execution_count": null,
   "metadata": {},
   "outputs": [],
   "source": [
    "# Merge all chunk files into final output\n",
    "all_chunks = [pd.read_csv(os.path.join(output_dir, f)) for f in sorted(os.listdir(output_dir)) if f.endswith(\".csv\")]\n",
    "final_df = pd.concat(all_chunks, ignore_index=True)\n",
    "final_df.to_csv(output_file, index=False)\n",
    "print(f\"All chunks merged and saved to {output_file}\")\n"
   ]
  }
 ],
 "metadata": {
  "kernelspec": {
   "display_name": "jupyter-base",
   "language": "python",
   "name": "jupyter-base"
  },
  "language_info": {
   "name": "python",
   "version": "3.11.9"
  }
 },
 "nbformat": 4,
 "nbformat_minor": 2
}
