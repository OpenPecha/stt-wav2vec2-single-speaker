{
 "cells": [
  {
   "cell_type": "code",
   "execution_count": 1,
   "id": "090d1910",
   "metadata": {},
   "outputs": [],
   "source": [
    "import pandas as pd\n",
    "\n",
    "csv_path = \"sr_submitted.csv\"\n",
    "\n",
    "df = pd.read_csv(csv_path)"
   ]
  },
  {
   "cell_type": "code",
   "execution_count": 2,
   "id": "5dcc8595",
   "metadata": {},
   "outputs": [
    {
     "data": {
      "text/html": [
       "<div>\n",
       "<style scoped>\n",
       "    .dataframe tbody tr th:only-of-type {\n",
       "        vertical-align: middle;\n",
       "    }\n",
       "\n",
       "    .dataframe tbody tr th {\n",
       "        vertical-align: top;\n",
       "    }\n",
       "\n",
       "    .dataframe thead th {\n",
       "        text-align: right;\n",
       "    }\n",
       "</style>\n",
       "<table border=\"1\" class=\"dataframe\">\n",
       "  <thead>\n",
       "    <tr style=\"text-align: right;\">\n",
       "      <th></th>\n",
       "      <th>id</th>\n",
       "      <th>group_id</th>\n",
       "      <th>state</th>\n",
       "      <th>inference_transcript</th>\n",
       "      <th>transcript</th>\n",
       "      <th>reviewed_transcript</th>\n",
       "      <th>final_transcript</th>\n",
       "      <th>file_name</th>\n",
       "      <th>url</th>\n",
       "      <th>transcriber_id</th>\n",
       "      <th>...</th>\n",
       "      <th>created_at</th>\n",
       "      <th>submitted_at</th>\n",
       "      <th>reviewed_at</th>\n",
       "      <th>finalised_reviewed_at</th>\n",
       "      <th>duration</th>\n",
       "      <th>audio_duration</th>\n",
       "      <th>new_data</th>\n",
       "      <th>is_duplicate</th>\n",
       "      <th>transcriber_is_correct</th>\n",
       "      <th>reviewer_is_correct</th>\n",
       "    </tr>\n",
       "  </thead>\n",
       "  <tbody>\n",
       "    <tr>\n",
       "      <th>0</th>\n",
       "      <td>2120847</td>\n",
       "      <td>32</td>\n",
       "      <td>submitted</td>\n",
       "      <td>འདུར་དག་སྤྲོད་ྐོ་མ་ཡིན་ན། སདུར་རིག་སྤྲོད་ཁོ་གེ...</td>\n",
       "      <td>གདུལ་བྱ་སྤྲུལ་སྐུ་མ་ཡིན་ན་གདུལ་བྱེད་སྤྲུལ་སྐུ་...</td>\n",
       "      <td>NaN</td>\n",
       "      <td>NaN</td>\n",
       "      <td>STT_GR_0002_0022_282400_to_286800</td>\n",
       "      <td>https://d38pmlk0v88drf.cloudfront.net/wav16k/S...</td>\n",
       "      <td>96</td>\n",
       "      <td>...</td>\n",
       "      <td>2025-06-13 00:49:12.342</td>\n",
       "      <td>2025-06-15 05:49:32.965</td>\n",
       "      <td>NaN</td>\n",
       "      <td>NaN</td>\n",
       "      <td>00:00:29</td>\n",
       "      <td>4.40</td>\n",
       "      <td>NaN</td>\n",
       "      <td>NaN</td>\n",
       "      <td>NaN</td>\n",
       "      <td>NaN</td>\n",
       "    </tr>\n",
       "    <tr>\n",
       "      <th>1</th>\n",
       "      <td>2120867</td>\n",
       "      <td>32</td>\n",
       "      <td>submitted</td>\n",
       "      <td>དེ་ནས་ད་རོང་དེ་པ་ྱས་གང་། ནང་པ་སངས་རྒྱས་པའི་སྟས...</td>\n",
       "      <td>དེ་ནས་ད་རུང་དེས་མ་ཚད་ད་ནང་པ་སངས་རྒྱས་པའི་བསྟན་...</td>\n",
       "      <td>NaN</td>\n",
       "      <td>NaN</td>\n",
       "      <td>STT_GR_0002_0042_531788_to_534508</td>\n",
       "      <td>https://d38pmlk0v88drf.cloudfront.net/wav16k/S...</td>\n",
       "      <td>95</td>\n",
       "      <td>...</td>\n",
       "      <td>2025-06-13 00:49:12.342</td>\n",
       "      <td>2025-06-17 23:23:23.961</td>\n",
       "      <td>NaN</td>\n",
       "      <td>NaN</td>\n",
       "      <td>00:00:46</td>\n",
       "      <td>2.72</td>\n",
       "      <td>NaN</td>\n",
       "      <td>NaN</td>\n",
       "      <td>NaN</td>\n",
       "      <td>NaN</td>\n",
       "    </tr>\n",
       "    <tr>\n",
       "      <th>2</th>\n",
       "      <td>2120877</td>\n",
       "      <td>32</td>\n",
       "      <td>submitted</td>\n",
       "      <td>སྐྱེ་བ་ཚེ་རབས་སྔོན་མ་ཨེ་ནས་རང་གི་དཀོན་མཆོག་ཙམ་...</td>\n",
       "      <td>སྐྱེ་བ་ཚེ་རབས་སྔོན་མ་ནས་རང་གིས་དཀོན་མཆོག་གསུམ་...</td>\n",
       "      <td>NaN</td>\n",
       "      <td>NaN</td>\n",
       "      <td>STT_GR_0002_0052_612100_to_620200</td>\n",
       "      <td>https://d38pmlk0v88drf.cloudfront.net/wav16k/S...</td>\n",
       "      <td>93</td>\n",
       "      <td>...</td>\n",
       "      <td>2025-06-13 00:49:12.342</td>\n",
       "      <td>2025-06-14 21:45:15.829</td>\n",
       "      <td>NaN</td>\n",
       "      <td>NaN</td>\n",
       "      <td>00:20:40</td>\n",
       "      <td>8.10</td>\n",
       "      <td>NaN</td>\n",
       "      <td>NaN</td>\n",
       "      <td>NaN</td>\n",
       "      <td>NaN</td>\n",
       "    </tr>\n",
       "    <tr>\n",
       "      <th>3</th>\n",
       "      <td>2120878</td>\n",
       "      <td>32</td>\n",
       "      <td>submitted</td>\n",
       "      <td>དེ་ནས་ད་ལྟ་ཀར་སྤང་དེ་ལ་དེ་ནས། ཨ།</td>\n",
       "      <td>དེ་ནས་ད་ལྟའི་སྐལ་པ་དེ་ལ་དེ་ནས། ཨ།</td>\n",
       "      <td>NaN</td>\n",
       "      <td>NaN</td>\n",
       "      <td>STT_GR_0002_0053_620500_to_623800</td>\n",
       "      <td>https://d38pmlk0v88drf.cloudfront.net/wav16k/S...</td>\n",
       "      <td>93</td>\n",
       "      <td>...</td>\n",
       "      <td>2025-06-13 00:49:12.342</td>\n",
       "      <td>2025-06-14 21:45:44.046</td>\n",
       "      <td>NaN</td>\n",
       "      <td>NaN</td>\n",
       "      <td>00:00:29</td>\n",
       "      <td>3.30</td>\n",
       "      <td>NaN</td>\n",
       "      <td>NaN</td>\n",
       "      <td>NaN</td>\n",
       "      <td>NaN</td>\n",
       "    </tr>\n",
       "    <tr>\n",
       "      <th>4</th>\n",
       "      <td>2120879</td>\n",
       "      <td>32</td>\n",
       "      <td>submitted</td>\n",
       "      <td>རང་གི་སྐོ་མཆོག་ཚོ་ལ་དད་པ་བྱས་ཞིས་ྤང་དེ། བསོད་ལ...</td>\n",
       "      <td>རང་གིས་དཀོན་མཆོག་གསུམ་ལ་དད་པ་བྱེད་ཤེས་པ་ནི། བས...</td>\n",
       "      <td>NaN</td>\n",
       "      <td>NaN</td>\n",
       "      <td>STT_GR_0002_0054_624200_to_635400</td>\n",
       "      <td>https://d38pmlk0v88drf.cloudfront.net/wav16k/S...</td>\n",
       "      <td>93</td>\n",
       "      <td>...</td>\n",
       "      <td>2025-06-13 00:49:12.342</td>\n",
       "      <td>2025-06-14 21:47:19.631</td>\n",
       "      <td>NaN</td>\n",
       "      <td>NaN</td>\n",
       "      <td>00:01:36</td>\n",
       "      <td>11.20</td>\n",
       "      <td>NaN</td>\n",
       "      <td>NaN</td>\n",
       "      <td>NaN</td>\n",
       "      <td>NaN</td>\n",
       "    </tr>\n",
       "  </tbody>\n",
       "</table>\n",
       "<p>5 rows × 22 columns</p>\n",
       "</div>"
      ],
      "text/plain": [
       "        id  group_id      state  \\\n",
       "0  2120847        32  submitted   \n",
       "1  2120867        32  submitted   \n",
       "2  2120877        32  submitted   \n",
       "3  2120878        32  submitted   \n",
       "4  2120879        32  submitted   \n",
       "\n",
       "                                inference_transcript  \\\n",
       "0  འདུར་དག་སྤྲོད་ྐོ་མ་ཡིན་ན། སདུར་རིག་སྤྲོད་ཁོ་གེ...   \n",
       "1  དེ་ནས་ད་རོང་དེ་པ་ྱས་གང་། ནང་པ་སངས་རྒྱས་པའི་སྟས...   \n",
       "2  སྐྱེ་བ་ཚེ་རབས་སྔོན་མ་ཨེ་ནས་རང་གི་དཀོན་མཆོག་ཙམ་...   \n",
       "3                 དེ་ནས་ད་ལྟ་ཀར་སྤང་དེ་ལ་དེ་ནས། ཨ།     \n",
       "4  རང་གི་སྐོ་མཆོག་ཚོ་ལ་དད་པ་བྱས་ཞིས་ྤང་དེ། བསོད་ལ...   \n",
       "\n",
       "                                          transcript  reviewed_transcript  \\\n",
       "0  གདུལ་བྱ་སྤྲུལ་སྐུ་མ་ཡིན་ན་གདུལ་བྱེད་སྤྲུལ་སྐུ་...                  NaN   \n",
       "1  དེ་ནས་ད་རུང་དེས་མ་ཚད་ད་ནང་པ་སངས་རྒྱས་པའི་བསྟན་...                  NaN   \n",
       "2  སྐྱེ་བ་ཚེ་རབས་སྔོན་མ་ནས་རང་གིས་དཀོན་མཆོག་གསུམ་...                  NaN   \n",
       "3                དེ་ནས་ད་ལྟའི་སྐལ་པ་དེ་ལ་དེ་ནས། ཨ།                    NaN   \n",
       "4  རང་གིས་དཀོན་མཆོག་གསུམ་ལ་དད་པ་བྱེད་ཤེས་པ་ནི། བས...                  NaN   \n",
       "\n",
       "   final_transcript                          file_name  \\\n",
       "0               NaN  STT_GR_0002_0022_282400_to_286800   \n",
       "1               NaN  STT_GR_0002_0042_531788_to_534508   \n",
       "2               NaN  STT_GR_0002_0052_612100_to_620200   \n",
       "3               NaN  STT_GR_0002_0053_620500_to_623800   \n",
       "4               NaN  STT_GR_0002_0054_624200_to_635400   \n",
       "\n",
       "                                                 url  transcriber_id  ...  \\\n",
       "0  https://d38pmlk0v88drf.cloudfront.net/wav16k/S...              96  ...   \n",
       "1  https://d38pmlk0v88drf.cloudfront.net/wav16k/S...              95  ...   \n",
       "2  https://d38pmlk0v88drf.cloudfront.net/wav16k/S...              93  ...   \n",
       "3  https://d38pmlk0v88drf.cloudfront.net/wav16k/S...              93  ...   \n",
       "4  https://d38pmlk0v88drf.cloudfront.net/wav16k/S...              93  ...   \n",
       "\n",
       "                created_at             submitted_at reviewed_at  \\\n",
       "0  2025-06-13 00:49:12.342  2025-06-15 05:49:32.965         NaN   \n",
       "1  2025-06-13 00:49:12.342  2025-06-17 23:23:23.961         NaN   \n",
       "2  2025-06-13 00:49:12.342  2025-06-14 21:45:15.829         NaN   \n",
       "3  2025-06-13 00:49:12.342  2025-06-14 21:45:44.046         NaN   \n",
       "4  2025-06-13 00:49:12.342  2025-06-14 21:47:19.631         NaN   \n",
       "\n",
       "  finalised_reviewed_at  duration  audio_duration new_data  is_duplicate  \\\n",
       "0                   NaN  00:00:29            4.40      NaN           NaN   \n",
       "1                   NaN  00:00:46            2.72      NaN           NaN   \n",
       "2                   NaN  00:20:40            8.10      NaN           NaN   \n",
       "3                   NaN  00:00:29            3.30      NaN           NaN   \n",
       "4                   NaN  00:01:36           11.20      NaN           NaN   \n",
       "\n",
       "   transcriber_is_correct  reviewer_is_correct  \n",
       "0                     NaN                  NaN  \n",
       "1                     NaN                  NaN  \n",
       "2                     NaN                  NaN  \n",
       "3                     NaN                  NaN  \n",
       "4                     NaN                  NaN  \n",
       "\n",
       "[5 rows x 22 columns]"
      ]
     },
     "execution_count": 2,
     "metadata": {},
     "output_type": "execute_result"
    }
   ],
   "source": [
    "df.head()"
   ]
  },
  {
   "cell_type": "code",
   "execution_count": 3,
   "id": "1f8b6e0c",
   "metadata": {},
   "outputs": [],
   "source": [
    "df['grade'] = 1 # by default all the task are transcibed"
   ]
  },
  {
   "cell_type": "code",
   "execution_count": 4,
   "id": "33f662a4",
   "metadata": {},
   "outputs": [],
   "source": [
    "df = df[~df['transcript'].isnull()]"
   ]
  },
  {
   "cell_type": "code",
   "execution_count": 5,
   "id": "aea83476",
   "metadata": {},
   "outputs": [
    {
     "data": {
      "text/plain": [
       "552"
      ]
     },
     "execution_count": 5,
     "metadata": {},
     "output_type": "execute_result"
    }
   ],
   "source": [
    "len(df)"
   ]
  },
  {
   "cell_type": "code",
   "execution_count": 6,
   "id": "1029d5ff",
   "metadata": {},
   "outputs": [],
   "source": [
    "df['dept'] = df['file_name'].str[:6] # extract department code from file name"
   ]
  },
  {
   "cell_type": "code",
   "execution_count": 7,
   "id": "83ad53b3",
   "metadata": {},
   "outputs": [
    {
     "data": {
      "text/html": [
       "<div>\n",
       "<style scoped>\n",
       "    .dataframe tbody tr th:only-of-type {\n",
       "        vertical-align: middle;\n",
       "    }\n",
       "\n",
       "    .dataframe tbody tr th {\n",
       "        vertical-align: top;\n",
       "    }\n",
       "\n",
       "    .dataframe thead th {\n",
       "        text-align: right;\n",
       "    }\n",
       "</style>\n",
       "<table border=\"1\" class=\"dataframe\">\n",
       "  <thead>\n",
       "    <tr style=\"text-align: right;\">\n",
       "      <th></th>\n",
       "      <th>id</th>\n",
       "      <th>group_id</th>\n",
       "      <th>state</th>\n",
       "      <th>inference_transcript</th>\n",
       "      <th>transcript</th>\n",
       "      <th>reviewed_transcript</th>\n",
       "      <th>final_transcript</th>\n",
       "      <th>file_name</th>\n",
       "      <th>url</th>\n",
       "      <th>transcriber_id</th>\n",
       "      <th>...</th>\n",
       "      <th>reviewed_at</th>\n",
       "      <th>finalised_reviewed_at</th>\n",
       "      <th>duration</th>\n",
       "      <th>audio_duration</th>\n",
       "      <th>new_data</th>\n",
       "      <th>is_duplicate</th>\n",
       "      <th>transcriber_is_correct</th>\n",
       "      <th>reviewer_is_correct</th>\n",
       "      <th>grade</th>\n",
       "      <th>dept</th>\n",
       "    </tr>\n",
       "  </thead>\n",
       "  <tbody>\n",
       "    <tr>\n",
       "      <th>0</th>\n",
       "      <td>2120847</td>\n",
       "      <td>32</td>\n",
       "      <td>submitted</td>\n",
       "      <td>འདུར་དག་སྤྲོད་ྐོ་མ་ཡིན་ན། སདུར་རིག་སྤྲོད་ཁོ་གེ...</td>\n",
       "      <td>གདུལ་བྱ་སྤྲུལ་སྐུ་མ་ཡིན་ན་གདུལ་བྱེད་སྤྲུལ་སྐུ་...</td>\n",
       "      <td>NaN</td>\n",
       "      <td>NaN</td>\n",
       "      <td>STT_GR_0002_0022_282400_to_286800</td>\n",
       "      <td>https://d38pmlk0v88drf.cloudfront.net/wav16k/S...</td>\n",
       "      <td>96</td>\n",
       "      <td>...</td>\n",
       "      <td>NaN</td>\n",
       "      <td>NaN</td>\n",
       "      <td>00:00:29</td>\n",
       "      <td>4.40</td>\n",
       "      <td>NaN</td>\n",
       "      <td>NaN</td>\n",
       "      <td>NaN</td>\n",
       "      <td>NaN</td>\n",
       "      <td>1</td>\n",
       "      <td>STT_GR</td>\n",
       "    </tr>\n",
       "    <tr>\n",
       "      <th>1</th>\n",
       "      <td>2120867</td>\n",
       "      <td>32</td>\n",
       "      <td>submitted</td>\n",
       "      <td>དེ་ནས་ད་རོང་དེ་པ་ྱས་གང་། ནང་པ་སངས་རྒྱས་པའི་སྟས...</td>\n",
       "      <td>དེ་ནས་ད་རུང་དེས་མ་ཚད་ད་ནང་པ་སངས་རྒྱས་པའི་བསྟན་...</td>\n",
       "      <td>NaN</td>\n",
       "      <td>NaN</td>\n",
       "      <td>STT_GR_0002_0042_531788_to_534508</td>\n",
       "      <td>https://d38pmlk0v88drf.cloudfront.net/wav16k/S...</td>\n",
       "      <td>95</td>\n",
       "      <td>...</td>\n",
       "      <td>NaN</td>\n",
       "      <td>NaN</td>\n",
       "      <td>00:00:46</td>\n",
       "      <td>2.72</td>\n",
       "      <td>NaN</td>\n",
       "      <td>NaN</td>\n",
       "      <td>NaN</td>\n",
       "      <td>NaN</td>\n",
       "      <td>1</td>\n",
       "      <td>STT_GR</td>\n",
       "    </tr>\n",
       "    <tr>\n",
       "      <th>2</th>\n",
       "      <td>2120877</td>\n",
       "      <td>32</td>\n",
       "      <td>submitted</td>\n",
       "      <td>སྐྱེ་བ་ཚེ་རབས་སྔོན་མ་ཨེ་ནས་རང་གི་དཀོན་མཆོག་ཙམ་...</td>\n",
       "      <td>སྐྱེ་བ་ཚེ་རབས་སྔོན་མ་ནས་རང་གིས་དཀོན་མཆོག་གསུམ་...</td>\n",
       "      <td>NaN</td>\n",
       "      <td>NaN</td>\n",
       "      <td>STT_GR_0002_0052_612100_to_620200</td>\n",
       "      <td>https://d38pmlk0v88drf.cloudfront.net/wav16k/S...</td>\n",
       "      <td>93</td>\n",
       "      <td>...</td>\n",
       "      <td>NaN</td>\n",
       "      <td>NaN</td>\n",
       "      <td>00:20:40</td>\n",
       "      <td>8.10</td>\n",
       "      <td>NaN</td>\n",
       "      <td>NaN</td>\n",
       "      <td>NaN</td>\n",
       "      <td>NaN</td>\n",
       "      <td>1</td>\n",
       "      <td>STT_GR</td>\n",
       "    </tr>\n",
       "    <tr>\n",
       "      <th>3</th>\n",
       "      <td>2120878</td>\n",
       "      <td>32</td>\n",
       "      <td>submitted</td>\n",
       "      <td>དེ་ནས་ད་ལྟ་ཀར་སྤང་དེ་ལ་དེ་ནས། ཨ།</td>\n",
       "      <td>དེ་ནས་ད་ལྟའི་སྐལ་པ་དེ་ལ་དེ་ནས། ཨ།</td>\n",
       "      <td>NaN</td>\n",
       "      <td>NaN</td>\n",
       "      <td>STT_GR_0002_0053_620500_to_623800</td>\n",
       "      <td>https://d38pmlk0v88drf.cloudfront.net/wav16k/S...</td>\n",
       "      <td>93</td>\n",
       "      <td>...</td>\n",
       "      <td>NaN</td>\n",
       "      <td>NaN</td>\n",
       "      <td>00:00:29</td>\n",
       "      <td>3.30</td>\n",
       "      <td>NaN</td>\n",
       "      <td>NaN</td>\n",
       "      <td>NaN</td>\n",
       "      <td>NaN</td>\n",
       "      <td>1</td>\n",
       "      <td>STT_GR</td>\n",
       "    </tr>\n",
       "    <tr>\n",
       "      <th>4</th>\n",
       "      <td>2120879</td>\n",
       "      <td>32</td>\n",
       "      <td>submitted</td>\n",
       "      <td>རང་གི་སྐོ་མཆོག་ཚོ་ལ་དད་པ་བྱས་ཞིས་ྤང་དེ། བསོད་ལ...</td>\n",
       "      <td>རང་གིས་དཀོན་མཆོག་གསུམ་ལ་དད་པ་བྱེད་ཤེས་པ་ནི། བས...</td>\n",
       "      <td>NaN</td>\n",
       "      <td>NaN</td>\n",
       "      <td>STT_GR_0002_0054_624200_to_635400</td>\n",
       "      <td>https://d38pmlk0v88drf.cloudfront.net/wav16k/S...</td>\n",
       "      <td>93</td>\n",
       "      <td>...</td>\n",
       "      <td>NaN</td>\n",
       "      <td>NaN</td>\n",
       "      <td>00:01:36</td>\n",
       "      <td>11.20</td>\n",
       "      <td>NaN</td>\n",
       "      <td>NaN</td>\n",
       "      <td>NaN</td>\n",
       "      <td>NaN</td>\n",
       "      <td>1</td>\n",
       "      <td>STT_GR</td>\n",
       "    </tr>\n",
       "  </tbody>\n",
       "</table>\n",
       "<p>5 rows × 24 columns</p>\n",
       "</div>"
      ],
      "text/plain": [
       "        id  group_id      state  \\\n",
       "0  2120847        32  submitted   \n",
       "1  2120867        32  submitted   \n",
       "2  2120877        32  submitted   \n",
       "3  2120878        32  submitted   \n",
       "4  2120879        32  submitted   \n",
       "\n",
       "                                inference_transcript  \\\n",
       "0  འདུར་དག་སྤྲོད་ྐོ་མ་ཡིན་ན། སདུར་རིག་སྤྲོད་ཁོ་གེ...   \n",
       "1  དེ་ནས་ད་རོང་དེ་པ་ྱས་གང་། ནང་པ་སངས་རྒྱས་པའི་སྟས...   \n",
       "2  སྐྱེ་བ་ཚེ་རབས་སྔོན་མ་ཨེ་ནས་རང་གི་དཀོན་མཆོག་ཙམ་...   \n",
       "3                 དེ་ནས་ད་ལྟ་ཀར་སྤང་དེ་ལ་དེ་ནས། ཨ།     \n",
       "4  རང་གི་སྐོ་མཆོག་ཚོ་ལ་དད་པ་བྱས་ཞིས་ྤང་དེ། བསོད་ལ...   \n",
       "\n",
       "                                          transcript  reviewed_transcript  \\\n",
       "0  གདུལ་བྱ་སྤྲུལ་སྐུ་མ་ཡིན་ན་གདུལ་བྱེད་སྤྲུལ་སྐུ་...                  NaN   \n",
       "1  དེ་ནས་ད་རུང་དེས་མ་ཚད་ད་ནང་པ་སངས་རྒྱས་པའི་བསྟན་...                  NaN   \n",
       "2  སྐྱེ་བ་ཚེ་རབས་སྔོན་མ་ནས་རང་གིས་དཀོན་མཆོག་གསུམ་...                  NaN   \n",
       "3                དེ་ནས་ད་ལྟའི་སྐལ་པ་དེ་ལ་དེ་ནས། ཨ།                    NaN   \n",
       "4  རང་གིས་དཀོན་མཆོག་གསུམ་ལ་དད་པ་བྱེད་ཤེས་པ་ནི། བས...                  NaN   \n",
       "\n",
       "   final_transcript                          file_name  \\\n",
       "0               NaN  STT_GR_0002_0022_282400_to_286800   \n",
       "1               NaN  STT_GR_0002_0042_531788_to_534508   \n",
       "2               NaN  STT_GR_0002_0052_612100_to_620200   \n",
       "3               NaN  STT_GR_0002_0053_620500_to_623800   \n",
       "4               NaN  STT_GR_0002_0054_624200_to_635400   \n",
       "\n",
       "                                                 url  transcriber_id  ...  \\\n",
       "0  https://d38pmlk0v88drf.cloudfront.net/wav16k/S...              96  ...   \n",
       "1  https://d38pmlk0v88drf.cloudfront.net/wav16k/S...              95  ...   \n",
       "2  https://d38pmlk0v88drf.cloudfront.net/wav16k/S...              93  ...   \n",
       "3  https://d38pmlk0v88drf.cloudfront.net/wav16k/S...              93  ...   \n",
       "4  https://d38pmlk0v88drf.cloudfront.net/wav16k/S...              93  ...   \n",
       "\n",
       "   reviewed_at  finalised_reviewed_at  duration audio_duration  new_data  \\\n",
       "0          NaN                    NaN  00:00:29           4.40       NaN   \n",
       "1          NaN                    NaN  00:00:46           2.72       NaN   \n",
       "2          NaN                    NaN  00:20:40           8.10       NaN   \n",
       "3          NaN                    NaN  00:00:29           3.30       NaN   \n",
       "4          NaN                    NaN  00:01:36          11.20       NaN   \n",
       "\n",
       "   is_duplicate transcriber_is_correct  reviewer_is_correct  grade    dept  \n",
       "0           NaN                    NaN                  NaN      1  STT_GR  \n",
       "1           NaN                    NaN                  NaN      1  STT_GR  \n",
       "2           NaN                    NaN                  NaN      1  STT_GR  \n",
       "3           NaN                    NaN                  NaN      1  STT_GR  \n",
       "4           NaN                    NaN                  NaN      1  STT_GR  \n",
       "\n",
       "[5 rows x 24 columns]"
      ]
     },
     "execution_count": 7,
     "metadata": {},
     "output_type": "execute_result"
    }
   ],
   "source": [
    "df.head()"
   ]
  },
  {
   "cell_type": "code",
   "execution_count": 8,
   "id": "d7a48181",
   "metadata": {},
   "outputs": [],
   "source": [
    "df = df[['file_name','transcript', 'url', 'dept', 'grade']]"
   ]
  },
  {
   "cell_type": "code",
   "execution_count": 9,
   "id": "56ff9afa",
   "metadata": {},
   "outputs": [
    {
     "data": {
      "text/html": [
       "<div>\n",
       "<style scoped>\n",
       "    .dataframe tbody tr th:only-of-type {\n",
       "        vertical-align: middle;\n",
       "    }\n",
       "\n",
       "    .dataframe tbody tr th {\n",
       "        vertical-align: top;\n",
       "    }\n",
       "\n",
       "    .dataframe thead th {\n",
       "        text-align: right;\n",
       "    }\n",
       "</style>\n",
       "<table border=\"1\" class=\"dataframe\">\n",
       "  <thead>\n",
       "    <tr style=\"text-align: right;\">\n",
       "      <th></th>\n",
       "      <th>file_name</th>\n",
       "      <th>transcript</th>\n",
       "      <th>url</th>\n",
       "      <th>dept</th>\n",
       "      <th>grade</th>\n",
       "    </tr>\n",
       "  </thead>\n",
       "  <tbody>\n",
       "    <tr>\n",
       "      <th>0</th>\n",
       "      <td>STT_GR_0002_0022_282400_to_286800</td>\n",
       "      <td>གདུལ་བྱ་སྤྲུལ་སྐུ་མ་ཡིན་ན་གདུལ་བྱེད་སྤྲུལ་སྐུ་...</td>\n",
       "      <td>https://d38pmlk0v88drf.cloudfront.net/wav16k/S...</td>\n",
       "      <td>STT_GR</td>\n",
       "      <td>1</td>\n",
       "    </tr>\n",
       "    <tr>\n",
       "      <th>1</th>\n",
       "      <td>STT_GR_0002_0042_531788_to_534508</td>\n",
       "      <td>དེ་ནས་ད་རུང་དེས་མ་ཚད་ད་ནང་པ་སངས་རྒྱས་པའི་བསྟན་...</td>\n",
       "      <td>https://d38pmlk0v88drf.cloudfront.net/wav16k/S...</td>\n",
       "      <td>STT_GR</td>\n",
       "      <td>1</td>\n",
       "    </tr>\n",
       "    <tr>\n",
       "      <th>2</th>\n",
       "      <td>STT_GR_0002_0052_612100_to_620200</td>\n",
       "      <td>སྐྱེ་བ་ཚེ་རབས་སྔོན་མ་ནས་རང་གིས་དཀོན་མཆོག་གསུམ་...</td>\n",
       "      <td>https://d38pmlk0v88drf.cloudfront.net/wav16k/S...</td>\n",
       "      <td>STT_GR</td>\n",
       "      <td>1</td>\n",
       "    </tr>\n",
       "    <tr>\n",
       "      <th>3</th>\n",
       "      <td>STT_GR_0002_0053_620500_to_623800</td>\n",
       "      <td>དེ་ནས་ད་ལྟའི་སྐལ་པ་དེ་ལ་དེ་ནས། ཨ།</td>\n",
       "      <td>https://d38pmlk0v88drf.cloudfront.net/wav16k/S...</td>\n",
       "      <td>STT_GR</td>\n",
       "      <td>1</td>\n",
       "    </tr>\n",
       "    <tr>\n",
       "      <th>4</th>\n",
       "      <td>STT_GR_0002_0054_624200_to_635400</td>\n",
       "      <td>རང་གིས་དཀོན་མཆོག་གསུམ་ལ་དད་པ་བྱེད་ཤེས་པ་ནི། བས...</td>\n",
       "      <td>https://d38pmlk0v88drf.cloudfront.net/wav16k/S...</td>\n",
       "      <td>STT_GR</td>\n",
       "      <td>1</td>\n",
       "    </tr>\n",
       "  </tbody>\n",
       "</table>\n",
       "</div>"
      ],
      "text/plain": [
       "                           file_name  \\\n",
       "0  STT_GR_0002_0022_282400_to_286800   \n",
       "1  STT_GR_0002_0042_531788_to_534508   \n",
       "2  STT_GR_0002_0052_612100_to_620200   \n",
       "3  STT_GR_0002_0053_620500_to_623800   \n",
       "4  STT_GR_0002_0054_624200_to_635400   \n",
       "\n",
       "                                          transcript  \\\n",
       "0  གདུལ་བྱ་སྤྲུལ་སྐུ་མ་ཡིན་ན་གདུལ་བྱེད་སྤྲུལ་སྐུ་...   \n",
       "1  དེ་ནས་ད་རུང་དེས་མ་ཚད་ད་ནང་པ་སངས་རྒྱས་པའི་བསྟན་...   \n",
       "2  སྐྱེ་བ་ཚེ་རབས་སྔོན་མ་ནས་རང་གིས་དཀོན་མཆོག་གསུམ་...   \n",
       "3                དེ་ནས་ད་ལྟའི་སྐལ་པ་དེ་ལ་དེ་ནས། ཨ།     \n",
       "4  རང་གིས་དཀོན་མཆོག་གསུམ་ལ་དད་པ་བྱེད་ཤེས་པ་ནི། བས...   \n",
       "\n",
       "                                                 url    dept  grade  \n",
       "0  https://d38pmlk0v88drf.cloudfront.net/wav16k/S...  STT_GR      1  \n",
       "1  https://d38pmlk0v88drf.cloudfront.net/wav16k/S...  STT_GR      1  \n",
       "2  https://d38pmlk0v88drf.cloudfront.net/wav16k/S...  STT_GR      1  \n",
       "3  https://d38pmlk0v88drf.cloudfront.net/wav16k/S...  STT_GR      1  \n",
       "4  https://d38pmlk0v88drf.cloudfront.net/wav16k/S...  STT_GR      1  "
      ]
     },
     "execution_count": 9,
     "metadata": {},
     "output_type": "execute_result"
    }
   ],
   "source": [
    "df.head()"
   ]
  },
  {
   "cell_type": "code",
   "execution_count": 10,
   "id": "3d3de70a",
   "metadata": {},
   "outputs": [],
   "source": [
    "df.rename(columns={'transcript':'uni'}, inplace=True)"
   ]
  },
  {
   "cell_type": "code",
   "execution_count": 11,
   "id": "f52a2a1e",
   "metadata": {},
   "outputs": [
    {
     "data": {
      "text/html": [
       "<div>\n",
       "<style scoped>\n",
       "    .dataframe tbody tr th:only-of-type {\n",
       "        vertical-align: middle;\n",
       "    }\n",
       "\n",
       "    .dataframe tbody tr th {\n",
       "        vertical-align: top;\n",
       "    }\n",
       "\n",
       "    .dataframe thead th {\n",
       "        text-align: right;\n",
       "    }\n",
       "</style>\n",
       "<table border=\"1\" class=\"dataframe\">\n",
       "  <thead>\n",
       "    <tr style=\"text-align: right;\">\n",
       "      <th></th>\n",
       "      <th>file_name</th>\n",
       "      <th>uni</th>\n",
       "      <th>url</th>\n",
       "      <th>dept</th>\n",
       "      <th>grade</th>\n",
       "    </tr>\n",
       "  </thead>\n",
       "  <tbody>\n",
       "    <tr>\n",
       "      <th>0</th>\n",
       "      <td>STT_GR_0002_0022_282400_to_286800</td>\n",
       "      <td>གདུལ་བྱ་སྤྲུལ་སྐུ་མ་ཡིན་ན་གདུལ་བྱེད་སྤྲུལ་སྐུ་...</td>\n",
       "      <td>https://d38pmlk0v88drf.cloudfront.net/wav16k/S...</td>\n",
       "      <td>STT_GR</td>\n",
       "      <td>1</td>\n",
       "    </tr>\n",
       "    <tr>\n",
       "      <th>1</th>\n",
       "      <td>STT_GR_0002_0042_531788_to_534508</td>\n",
       "      <td>དེ་ནས་ད་རུང་དེས་མ་ཚད་ད་ནང་པ་སངས་རྒྱས་པའི་བསྟན་...</td>\n",
       "      <td>https://d38pmlk0v88drf.cloudfront.net/wav16k/S...</td>\n",
       "      <td>STT_GR</td>\n",
       "      <td>1</td>\n",
       "    </tr>\n",
       "    <tr>\n",
       "      <th>2</th>\n",
       "      <td>STT_GR_0002_0052_612100_to_620200</td>\n",
       "      <td>སྐྱེ་བ་ཚེ་རབས་སྔོན་མ་ནས་རང་གིས་དཀོན་མཆོག་གསུམ་...</td>\n",
       "      <td>https://d38pmlk0v88drf.cloudfront.net/wav16k/S...</td>\n",
       "      <td>STT_GR</td>\n",
       "      <td>1</td>\n",
       "    </tr>\n",
       "    <tr>\n",
       "      <th>3</th>\n",
       "      <td>STT_GR_0002_0053_620500_to_623800</td>\n",
       "      <td>དེ་ནས་ད་ལྟའི་སྐལ་པ་དེ་ལ་དེ་ནས། ཨ།</td>\n",
       "      <td>https://d38pmlk0v88drf.cloudfront.net/wav16k/S...</td>\n",
       "      <td>STT_GR</td>\n",
       "      <td>1</td>\n",
       "    </tr>\n",
       "    <tr>\n",
       "      <th>4</th>\n",
       "      <td>STT_GR_0002_0054_624200_to_635400</td>\n",
       "      <td>རང་གིས་དཀོན་མཆོག་གསུམ་ལ་དད་པ་བྱེད་ཤེས་པ་ནི། བས...</td>\n",
       "      <td>https://d38pmlk0v88drf.cloudfront.net/wav16k/S...</td>\n",
       "      <td>STT_GR</td>\n",
       "      <td>1</td>\n",
       "    </tr>\n",
       "  </tbody>\n",
       "</table>\n",
       "</div>"
      ],
      "text/plain": [
       "                           file_name  \\\n",
       "0  STT_GR_0002_0022_282400_to_286800   \n",
       "1  STT_GR_0002_0042_531788_to_534508   \n",
       "2  STT_GR_0002_0052_612100_to_620200   \n",
       "3  STT_GR_0002_0053_620500_to_623800   \n",
       "4  STT_GR_0002_0054_624200_to_635400   \n",
       "\n",
       "                                                 uni  \\\n",
       "0  གདུལ་བྱ་སྤྲུལ་སྐུ་མ་ཡིན་ན་གདུལ་བྱེད་སྤྲུལ་སྐུ་...   \n",
       "1  དེ་ནས་ད་རུང་དེས་མ་ཚད་ད་ནང་པ་སངས་རྒྱས་པའི་བསྟན་...   \n",
       "2  སྐྱེ་བ་ཚེ་རབས་སྔོན་མ་ནས་རང་གིས་དཀོན་མཆོག་གསུམ་...   \n",
       "3                དེ་ནས་ད་ལྟའི་སྐལ་པ་དེ་ལ་དེ་ནས། ཨ།     \n",
       "4  རང་གིས་དཀོན་མཆོག་གསུམ་ལ་དད་པ་བྱེད་ཤེས་པ་ནི། བས...   \n",
       "\n",
       "                                                 url    dept  grade  \n",
       "0  https://d38pmlk0v88drf.cloudfront.net/wav16k/S...  STT_GR      1  \n",
       "1  https://d38pmlk0v88drf.cloudfront.net/wav16k/S...  STT_GR      1  \n",
       "2  https://d38pmlk0v88drf.cloudfront.net/wav16k/S...  STT_GR      1  \n",
       "3  https://d38pmlk0v88drf.cloudfront.net/wav16k/S...  STT_GR      1  \n",
       "4  https://d38pmlk0v88drf.cloudfront.net/wav16k/S...  STT_GR      1  "
      ]
     },
     "execution_count": 11,
     "metadata": {},
     "output_type": "execute_result"
    }
   ],
   "source": [
    "df.head()"
   ]
  },
  {
   "cell_type": "code",
   "execution_count": 12,
   "id": "0ec795e0",
   "metadata": {},
   "outputs": [],
   "source": [
    "df['file_name'] = df['file_name'].map(lambda x: x.replace(\".wav\", \"\"))\n",
    "df['file_name'] = df['file_name'].map(lambda x: x.replace(\".mp3\", \"\"))"
   ]
  },
  {
   "cell_type": "code",
   "execution_count": 13,
   "id": "b0be1662",
   "metadata": {},
   "outputs": [
    {
     "data": {
      "text/html": [
       "<div>\n",
       "<style scoped>\n",
       "    .dataframe tbody tr th:only-of-type {\n",
       "        vertical-align: middle;\n",
       "    }\n",
       "\n",
       "    .dataframe tbody tr th {\n",
       "        vertical-align: top;\n",
       "    }\n",
       "\n",
       "    .dataframe thead th {\n",
       "        text-align: right;\n",
       "    }\n",
       "</style>\n",
       "<table border=\"1\" class=\"dataframe\">\n",
       "  <thead>\n",
       "    <tr style=\"text-align: right;\">\n",
       "      <th></th>\n",
       "      <th>file_name</th>\n",
       "      <th>uni</th>\n",
       "      <th>url</th>\n",
       "      <th>dept</th>\n",
       "      <th>grade</th>\n",
       "    </tr>\n",
       "  </thead>\n",
       "  <tbody>\n",
       "    <tr>\n",
       "      <th>0</th>\n",
       "      <td>STT_GR_0002_0022_282400_to_286800</td>\n",
       "      <td>གདུལ་བྱ་སྤྲུལ་སྐུ་མ་ཡིན་ན་གདུལ་བྱེད་སྤྲུལ་སྐུ་...</td>\n",
       "      <td>https://d38pmlk0v88drf.cloudfront.net/wav16k/S...</td>\n",
       "      <td>STT_GR</td>\n",
       "      <td>1</td>\n",
       "    </tr>\n",
       "    <tr>\n",
       "      <th>1</th>\n",
       "      <td>STT_GR_0002_0042_531788_to_534508</td>\n",
       "      <td>དེ་ནས་ད་རུང་དེས་མ་ཚད་ད་ནང་པ་སངས་རྒྱས་པའི་བསྟན་...</td>\n",
       "      <td>https://d38pmlk0v88drf.cloudfront.net/wav16k/S...</td>\n",
       "      <td>STT_GR</td>\n",
       "      <td>1</td>\n",
       "    </tr>\n",
       "    <tr>\n",
       "      <th>2</th>\n",
       "      <td>STT_GR_0002_0052_612100_to_620200</td>\n",
       "      <td>སྐྱེ་བ་ཚེ་རབས་སྔོན་མ་ནས་རང་གིས་དཀོན་མཆོག་གསུམ་...</td>\n",
       "      <td>https://d38pmlk0v88drf.cloudfront.net/wav16k/S...</td>\n",
       "      <td>STT_GR</td>\n",
       "      <td>1</td>\n",
       "    </tr>\n",
       "    <tr>\n",
       "      <th>3</th>\n",
       "      <td>STT_GR_0002_0053_620500_to_623800</td>\n",
       "      <td>དེ་ནས་ད་ལྟའི་སྐལ་པ་དེ་ལ་དེ་ནས། ཨ།</td>\n",
       "      <td>https://d38pmlk0v88drf.cloudfront.net/wav16k/S...</td>\n",
       "      <td>STT_GR</td>\n",
       "      <td>1</td>\n",
       "    </tr>\n",
       "    <tr>\n",
       "      <th>4</th>\n",
       "      <td>STT_GR_0002_0054_624200_to_635400</td>\n",
       "      <td>རང་གིས་དཀོན་མཆོག་གསུམ་ལ་དད་པ་བྱེད་ཤེས་པ་ནི། བས...</td>\n",
       "      <td>https://d38pmlk0v88drf.cloudfront.net/wav16k/S...</td>\n",
       "      <td>STT_GR</td>\n",
       "      <td>1</td>\n",
       "    </tr>\n",
       "  </tbody>\n",
       "</table>\n",
       "</div>"
      ],
      "text/plain": [
       "                           file_name  \\\n",
       "0  STT_GR_0002_0022_282400_to_286800   \n",
       "1  STT_GR_0002_0042_531788_to_534508   \n",
       "2  STT_GR_0002_0052_612100_to_620200   \n",
       "3  STT_GR_0002_0053_620500_to_623800   \n",
       "4  STT_GR_0002_0054_624200_to_635400   \n",
       "\n",
       "                                                 uni  \\\n",
       "0  གདུལ་བྱ་སྤྲུལ་སྐུ་མ་ཡིན་ན་གདུལ་བྱེད་སྤྲུལ་སྐུ་...   \n",
       "1  དེ་ནས་ད་རུང་དེས་མ་ཚད་ད་ནང་པ་སངས་རྒྱས་པའི་བསྟན་...   \n",
       "2  སྐྱེ་བ་ཚེ་རབས་སྔོན་མ་ནས་རང་གིས་དཀོན་མཆོག་གསུམ་...   \n",
       "3                དེ་ནས་ད་ལྟའི་སྐལ་པ་དེ་ལ་དེ་ནས། ཨ།     \n",
       "4  རང་གིས་དཀོན་མཆོག་གསུམ་ལ་དད་པ་བྱེད་ཤེས་པ་ནི། བས...   \n",
       "\n",
       "                                                 url    dept  grade  \n",
       "0  https://d38pmlk0v88drf.cloudfront.net/wav16k/S...  STT_GR      1  \n",
       "1  https://d38pmlk0v88drf.cloudfront.net/wav16k/S...  STT_GR      1  \n",
       "2  https://d38pmlk0v88drf.cloudfront.net/wav16k/S...  STT_GR      1  \n",
       "3  https://d38pmlk0v88drf.cloudfront.net/wav16k/S...  STT_GR      1  \n",
       "4  https://d38pmlk0v88drf.cloudfront.net/wav16k/S...  STT_GR      1  "
      ]
     },
     "execution_count": 13,
     "metadata": {},
     "output_type": "execute_result"
    }
   ],
   "source": [
    "df.head()"
   ]
  },
  {
   "cell_type": "code",
   "execution_count": null,
   "id": "338e86bf",
   "metadata": {},
   "outputs": [],
   "source": [
    "df.to_csv(\"gr_data.csv\", index=False)"
   ]
  },
  {
   "cell_type": "code",
   "execution_count": 15,
   "id": "47b10fe5",
   "metadata": {},
   "outputs": [],
   "source": [
    "df.drop_duplicates(subset='file_name', keep=\"first\", inplace=True)"
   ]
  },
  {
   "cell_type": "code",
   "execution_count": 16,
   "id": "24c5cdf5",
   "metadata": {},
   "outputs": [
    {
     "data": {
      "text/plain": [
       "552"
      ]
     },
     "execution_count": 16,
     "metadata": {},
     "output_type": "execute_result"
    }
   ],
   "source": [
    "len(df)"
   ]
  },
  {
   "cell_type": "code",
   "execution_count": 17,
   "id": "ed75d2c6",
   "metadata": {},
   "outputs": [
    {
     "name": "stdout",
     "output_type": "stream",
     "text": [
      "ཧིཧོ་ཧོ་ཧོ་ ཧ་ ཧ་ཧ་། འ་འ་འ་གྲོ། ཚ ར་སོང་ངེ་།  \n"
     ]
    }
   ],
   "source": [
    "import re\n",
    "def clean_transcription(text):\n",
    "    text = text.replace('\\n', ' ')\n",
    "    text = text.replace('\\t', ' ')\n",
    "    text = text.strip()\n",
    "    \n",
    "    text = re.sub(\"༌\", \"་\",text) # there are two type of 'tsak' let's normalize 0xf0b to 0xf0c\n",
    "    \n",
    "    text = re.sub(\"༎\", \"།\",text) # normalize double 'shae' 0xf0e to 0xf0d\n",
    "    text = re.sub(\"༔\", \"།\",text)\n",
    "    text = re.sub(\"༏\", \"།\",text)\n",
    "    text = re.sub(\"༐\", \"།\",text)\n",
    "\n",
    "    text = re.sub(\"ཽ\", \"ོ\",text) # normalize\n",
    "    text = re.sub(\"ཻ\", \"ེ\",text) # normalize \"᫥\"\n",
    "    \n",
    "    text = re.sub(r\"\\s+།\", \"།\", text)\n",
    "    text = re.sub(r\"།+\", \"།\", text)\n",
    "    text = re.sub(r\"།\", \"། \", text)\n",
    "    text = re.sub(r\"\\s+་\", \"་\", text)\n",
    "    text = re.sub(r\"་+\", \"་\", text)\n",
    "    text = re.sub(r\"\\s+\", \" \", text)\n",
    "    \n",
    "    text = re.sub(r\"ཧཧཧ+\", \"ཧཧཧ\", text)\n",
    "    text = re.sub(r'ཧི་ཧི་(ཧི་)+', r'ཧི་ཧི་ཧི་', text)\n",
    "    text = re.sub(r'ཧེ་ཧེ་(ཧེ་)+', r'ཧེ་ཧེ་ཧེ་', text)\n",
    "    text = re.sub(r'ཧ་ཧ་(ཧ་)+', r'ཧ་ཧ་ཧ་', text)\n",
    "    text = re.sub(r'ཧོ་ཧོ་(ཧོ་)+', r'ཧོ་ཧོ་ཧོ་', text)\n",
    "    text = re.sub(r'ཨོ་ཨོ་(ཨོ་)+', r'ཨོ་ཨོ་ཨོ་', text)\n",
    "\n",
    "    chars_to_ignore_regex = \"[\\,\\?\\.\\!\\-\\;\\:\\\"\\“\\%\\‘\\”\\�\\/\\{\\}\\(\\)༽》༼《༄༅༈༑༠'|·×༆༸༾ཿ྄྅྆྇ྋ࿒ᨵ​’„╗᩺╚༿᫥ྂ༊\u0001ྈ༁༂༃༇༈༉༒༷༺༻࿐࿑࿓࿔࿙࿚༴࿊]\"\n",
    "    text = re.sub(chars_to_ignore_regex, '', text)+\" \"\n",
    "    return text\n",
    "\n",
    "def check_if_regex(text):\n",
    "    text = str(text)\n",
    "    regex = re.compile(r'[a-zA-Z]+')\n",
    "    match = re.search(regex, text)\n",
    "    \n",
    "    return bool(match)\n",
    "    \n",
    "print(clean_transcription('ཧིཧོ་ཧོ་ཧོ་ཧོ་ཧོ་ཧོ་  ཧ་ ཧ་ཧ་། །  འ་༽འ་××འ༌༌༌༌༌༌༌གྲོ།ཚ ར་སོང་ངེ་། '))"
   ]
  },
  {
   "cell_type": "code",
   "execution_count": 18,
   "id": "1c5000e5",
   "metadata": {},
   "outputs": [],
   "source": [
    "df = df[df['uni'].str.len() > 0]"
   ]
  },
  {
   "cell_type": "code",
   "execution_count": 19,
   "id": "4c587c32",
   "metadata": {},
   "outputs": [],
   "source": [
    "df = df[~df['uni'].apply(check_if_regex)]"
   ]
  },
  {
   "cell_type": "code",
   "execution_count": 20,
   "id": "8dd8f5c4",
   "metadata": {},
   "outputs": [],
   "source": [
    "df['uni'] = df['uni'].map(clean_transcription)"
   ]
  },
  {
   "cell_type": "code",
   "execution_count": 21,
   "id": "d4896f90",
   "metadata": {},
   "outputs": [
    {
     "name": "stdout",
     "output_type": "stream",
     "text": [
      "Collecting pyewts\n",
      "  Downloading pyewts-0.2.0.tar.gz (18 kB)\n",
      "  Preparing metadata (setup.py) ... \u001b[?25ldone\n",
      "\u001b[?25hUsing legacy 'setup.py install' for pyewts, since package 'wheel' is not installed.\n",
      "Installing collected packages: pyewts\n",
      "  Running setup.py install for pyewts ... \u001b[?25ldone\n",
      "\u001b[?25hSuccessfully installed pyewts-0.2.0\n"
     ]
    }
   ],
   "source": [
    "! pip install pyewts"
   ]
  },
  {
   "cell_type": "code",
   "execution_count": 22,
   "id": "afeecfac",
   "metadata": {},
   "outputs": [],
   "source": [
    "import pyewts\n",
    "\n",
    "converter = pyewts.pyewts()\n",
    "\n",
    "df['wylie'] = df['uni'].apply(converter.toWylie)"
   ]
  },
  {
   "cell_type": "code",
   "execution_count": 23,
   "id": "77da9a32",
   "metadata": {},
   "outputs": [],
   "source": [
    "df['char_len'] = df['uni'].str.len()"
   ]
  },
  {
   "cell_type": "code",
   "execution_count": 28,
   "id": "211a405c",
   "metadata": {},
   "outputs": [
    {
     "data": {
      "text/plain": [
       "count    552.000000\n",
       "mean     123.385870\n",
       "std       87.253545\n",
       "min       20.000000\n",
       "25%       59.000000\n",
       "50%       94.000000\n",
       "75%      167.250000\n",
       "max      506.000000\n",
       "Name: char_len, dtype: float64"
      ]
     },
     "execution_count": 28,
     "metadata": {},
     "output_type": "execute_result"
    }
   ],
   "source": [
    "df['char_len'].describe()"
   ]
  },
  {
   "cell_type": "code",
   "execution_count": 30,
   "id": "4c4f74c0",
   "metadata": {},
   "outputs": [
    {
     "data": {
      "text/plain": [
       "<Axes: >"
      ]
     },
     "execution_count": 30,
     "metadata": {},
     "output_type": "execute_result"
    },
    {
     "data": {
      "image/png": "[encoded data removed]",
      "text/plain": [
       "<Figure size 640x480 with 1 Axes>"
      ]
     },
     "metadata": {},
     "output_type": "display_data"
    }
   ],
   "source": [
    "df['char_len'].hist(bins=100, range=(0, 1000))"
   ]
  },
  {
   "cell_type": "code",
   "execution_count": 24,
   "id": "3b9cf0eb",
   "metadata": {},
   "outputs": [
    {
     "data": {
      "text/plain": [
       "5.5900000000001455"
      ]
     },
     "execution_count": 24,
     "metadata": {},
     "output_type": "execute_result"
    }
   ],
   "source": [
    "def getTimeSpan(filename):\n",
    "\n",
    "    filename = filename.replace(\".wav\", \"\")\n",
    "    filename = filename.replace(\".WAV\", \"\")\n",
    "    filename = filename.replace(\".mp3\", \"\")\n",
    "    filename = filename.replace(\".MP3\", \"\")\n",
    "    try:\n",
    "        if \"_to_\" in filename:\n",
    "            start, end = filename.split(\"_to_\")\n",
    "            start = start.split(\"_\")[-1]\n",
    "            end = end.split(\"_\")[0]\n",
    "            end = float(end)\n",
    "            start = float(start)\n",
    "            return abs(end - start)/1000\n",
    "        else:\n",
    "            start, end = filename.split(\"-\")\n",
    "            start = start.split(\"_\")[-1]\n",
    "            end = end.split(\"_\")[0]\n",
    "            end =   float(end)\n",
    "            start = float(start)\n",
    "            return abs(end - start)\n",
    "    except Exception as err:\n",
    "        print(f\"filename is:'{filename}'. Could not parse to get time span.\")\n",
    "        return 0\n",
    "    \n",
    "\n",
    "getTimeSpan(\"STT_TT00031_03471.850-03477.44\")"
   ]
  },
  {
   "cell_type": "code",
   "execution_count": 25,
   "id": "f7955287",
   "metadata": {},
   "outputs": [],
   "source": [
    "df['audio_len'] = df['file_name'].apply(getTimeSpan)"
   ]
  },
  {
   "cell_type": "code",
   "execution_count": 26,
   "id": "f390e8c3",
   "metadata": {},
   "outputs": [
    {
     "data": {
      "text/plain": [
       "count    552.000000\n",
       "mean       7.903658\n",
       "std        5.638431\n",
       "min        2.015000\n",
       "25%        3.363000\n",
       "50%        6.150000\n",
       "75%       11.000000\n",
       "max       29.700000\n",
       "Name: audio_len, dtype: float64"
      ]
     },
     "execution_count": 26,
     "metadata": {},
     "output_type": "execute_result"
    }
   ],
   "source": [
    "df['audio_len'].describe()"
   ]
  },
  {
   "cell_type": "code",
   "execution_count": 32,
   "id": "f5d0a28e",
   "metadata": {},
   "outputs": [
    {
     "data": {
      "text/plain": [
       "<Axes: >"
      ]
     },
     "execution_count": 32,
     "metadata": {},
     "output_type": "execute_result"
    },
    {
     "data": {
      "image/png": "[encoded data removed]",
      "text/plain": [
       "<Figure size 640x480 with 1 Axes>"
      ]
     },
     "metadata": {},
     "output_type": "display_data"
    }
   ],
   "source": [
    "df['audio_len'].hist(bins=100, range=(0, 60))"
   ]
  },
  {
   "cell_type": "code",
   "execution_count": 33,
   "id": "914e1cf9",
   "metadata": {},
   "outputs": [],
   "source": [
    "df = df[['file_name','uni', 'wylie', 'url', 'dept', 'grade', 'char_len',  'audio_len']]"
   ]
  },
  {
   "cell_type": "code",
   "execution_count": 34,
   "id": "69173116",
   "metadata": {},
   "outputs": [
    {
     "data": {
      "text/html": [
       "<div>\n",
       "<style scoped>\n",
       "    .dataframe tbody tr th:only-of-type {\n",
       "        vertical-align: middle;\n",
       "    }\n",
       "\n",
       "    .dataframe tbody tr th {\n",
       "        vertical-align: top;\n",
       "    }\n",
       "\n",
       "    .dataframe thead th {\n",
       "        text-align: right;\n",
       "    }\n",
       "</style>\n",
       "<table border=\"1\" class=\"dataframe\">\n",
       "  <thead>\n",
       "    <tr style=\"text-align: right;\">\n",
       "      <th></th>\n",
       "      <th>file_name</th>\n",
       "      <th>uni</th>\n",
       "      <th>wylie</th>\n",
       "      <th>url</th>\n",
       "      <th>dept</th>\n",
       "      <th>grade</th>\n",
       "      <th>char_len</th>\n",
       "      <th>audio_len</th>\n",
       "    </tr>\n",
       "  </thead>\n",
       "  <tbody>\n",
       "    <tr>\n",
       "      <th>0</th>\n",
       "      <td>STT_GR_0002_0022_282400_to_286800</td>\n",
       "      <td>གདུལ་བྱ་སྤྲུལ་སྐུ་མ་ཡིན་ན་གདུལ་བྱེད་སྤྲུལ་སྐུ་...</td>\n",
       "      <td>gdul bya sprul sku ma yin na gdul byed sprul s...</td>\n",
       "      <td>https://d38pmlk0v88drf.cloudfront.net/wav16k/S...</td>\n",
       "      <td>STT_GR</td>\n",
       "      <td>1</td>\n",
       "      <td>75</td>\n",
       "      <td>4.40</td>\n",
       "    </tr>\n",
       "    <tr>\n",
       "      <th>1</th>\n",
       "      <td>STT_GR_0002_0042_531788_to_534508</td>\n",
       "      <td>དེ་ནས་ད་རུང་དེས་མ་ཚད་ད་ནང་པ་སངས་རྒྱས་པའི་བསྟན་...</td>\n",
       "      <td>de nas da rung des ma tshad da nang pa sangs r...</td>\n",
       "      <td>https://d38pmlk0v88drf.cloudfront.net/wav16k/S...</td>\n",
       "      <td>STT_GR</td>\n",
       "      <td>1</td>\n",
       "      <td>74</td>\n",
       "      <td>2.72</td>\n",
       "    </tr>\n",
       "    <tr>\n",
       "      <th>2</th>\n",
       "      <td>STT_GR_0002_0052_612100_to_620200</td>\n",
       "      <td>སྐྱེ་བ་ཚེ་རབས་སྔོན་མ་ནས་རང་གིས་དཀོན་མཆོག་གསུམ་...</td>\n",
       "      <td>skye ba tshe rabs sngon ma nas rang gis dkon m...</td>\n",
       "      <td>https://d38pmlk0v88drf.cloudfront.net/wav16k/S...</td>\n",
       "      <td>STT_GR</td>\n",
       "      <td>1</td>\n",
       "      <td>105</td>\n",
       "      <td>8.10</td>\n",
       "    </tr>\n",
       "    <tr>\n",
       "      <th>3</th>\n",
       "      <td>STT_GR_0002_0053_620500_to_623800</td>\n",
       "      <td>དེ་ནས་ད་ལྟའི་སྐལ་པ་དེ་ལ་དེ་ནས། ཨ།</td>\n",
       "      <td>de nas da lta'i skal pa de la de nas/_a/__</td>\n",
       "      <td>https://d38pmlk0v88drf.cloudfront.net/wav16k/S...</td>\n",
       "      <td>STT_GR</td>\n",
       "      <td>1</td>\n",
       "      <td>35</td>\n",
       "      <td>3.30</td>\n",
       "    </tr>\n",
       "    <tr>\n",
       "      <th>4</th>\n",
       "      <td>STT_GR_0002_0054_624200_to_635400</td>\n",
       "      <td>རང་གིས་དཀོན་མཆོག་གསུམ་ལ་དད་པ་བྱེད་ཤེས་པ་ནི། བས...</td>\n",
       "      <td>rang gis dkon mchog gsum la dad pa byed shes p...</td>\n",
       "      <td>https://d38pmlk0v88drf.cloudfront.net/wav16k/S...</td>\n",
       "      <td>STT_GR</td>\n",
       "      <td>1</td>\n",
       "      <td>178</td>\n",
       "      <td>11.20</td>\n",
       "    </tr>\n",
       "  </tbody>\n",
       "</table>\n",
       "</div>"
      ],
      "text/plain": [
       "                           file_name  \\\n",
       "0  STT_GR_0002_0022_282400_to_286800   \n",
       "1  STT_GR_0002_0042_531788_to_534508   \n",
       "2  STT_GR_0002_0052_612100_to_620200   \n",
       "3  STT_GR_0002_0053_620500_to_623800   \n",
       "4  STT_GR_0002_0054_624200_to_635400   \n",
       "\n",
       "                                                 uni  \\\n",
       "0  གདུལ་བྱ་སྤྲུལ་སྐུ་མ་ཡིན་ན་གདུལ་བྱེད་སྤྲུལ་སྐུ་...   \n",
       "1  དེ་ནས་ད་རུང་དེས་མ་ཚད་ད་ནང་པ་སངས་རྒྱས་པའི་བསྟན་...   \n",
       "2  སྐྱེ་བ་ཚེ་རབས་སྔོན་མ་ནས་རང་གིས་དཀོན་མཆོག་གསུམ་...   \n",
       "3                དེ་ནས་ད་ལྟའི་སྐལ་པ་དེ་ལ་དེ་ནས། ཨ།     \n",
       "4  རང་གིས་དཀོན་མཆོག་གསུམ་ལ་དད་པ་བྱེད་ཤེས་པ་ནི། བས...   \n",
       "\n",
       "                                               wylie  \\\n",
       "0  gdul bya sprul sku ma yin na gdul byed sprul s...   \n",
       "1  de nas da rung des ma tshad da nang pa sangs r...   \n",
       "2  skye ba tshe rabs sngon ma nas rang gis dkon m...   \n",
       "3         de nas da lta'i skal pa de la de nas/_a/__   \n",
       "4  rang gis dkon mchog gsum la dad pa byed shes p...   \n",
       "\n",
       "                                                 url    dept  grade  char_len  \\\n",
       "0  https://d38pmlk0v88drf.cloudfront.net/wav16k/S...  STT_GR      1        75   \n",
       "1  https://d38pmlk0v88drf.cloudfront.net/wav16k/S...  STT_GR      1        74   \n",
       "2  https://d38pmlk0v88drf.cloudfront.net/wav16k/S...  STT_GR      1       105   \n",
       "3  https://d38pmlk0v88drf.cloudfront.net/wav16k/S...  STT_GR      1        35   \n",
       "4  https://d38pmlk0v88drf.cloudfront.net/wav16k/S...  STT_GR      1       178   \n",
       "\n",
       "   audio_len  \n",
       "0       4.40  \n",
       "1       2.72  \n",
       "2       8.10  \n",
       "3       3.30  \n",
       "4      11.20  "
      ]
     },
     "execution_count": 34,
     "metadata": {},
     "output_type": "execute_result"
    }
   ],
   "source": [
    "df.head()"
   ]
  },
  {
   "cell_type": "code",
   "execution_count": 35,
   "id": "cac69bed",
   "metadata": {},
   "outputs": [],
   "source": [
    "df.to_csv('gr_data_cleaned.csv', index=False)"
   ]
  },
  {
   "cell_type": "code",
   "execution_count": 36,
   "id": "f4d2d9ae",
   "metadata": {},
   "outputs": [
    {
     "data": {
      "text/plain": [
       "uni\n",
       "False    551\n",
       "True       1\n",
       "Name: count, dtype: int64"
      ]
     },
     "execution_count": 36,
     "metadata": {},
     "output_type": "execute_result"
    }
   ],
   "source": [
    "df['uni'].str.contains('ཧཧཧ').value_counts()"
   ]
  },
  {
   "cell_type": "code",
   "execution_count": 37,
   "id": "bffa23a4",
   "metadata": {},
   "outputs": [
    {
     "data": {
      "text/plain": [
       "np.float64(1.2118941666666665)"
      ]
     },
     "execution_count": 37,
     "metadata": {},
     "output_type": "execute_result"
    }
   ],
   "source": [
    "df['audio_len'].sum()/60/60"
   ]
  },
  {
   "cell_type": "code",
   "execution_count": 38,
   "id": "78203bdf",
   "metadata": {},
   "outputs": [
    {
     "data": {
      "text/plain": [
       "552"
      ]
     },
     "execution_count": 38,
     "metadata": {},
     "output_type": "execute_result"
    }
   ],
   "source": [
    "len(df)"
   ]
  },
  {
   "cell_type": "code",
   "execution_count": 8,
   "id": "835a1dd7",
   "metadata": {},
   "outputs": [
    {
     "ename": "FileNotFoundError",
     "evalue": "[Errno 2] No such file or directory: 'gr_data_cleaned.csv'",
     "output_type": "error",
     "traceback": [
      "\u001b[0;31m---------------------------------------------------------------------------\u001b[0m",
      "\u001b[0;31mFileNotFoundError\u001b[0m                         Traceback (most recent call last)",
      "Cell \u001b[0;32mIn[8], line 3\u001b[0m\n\u001b[1;32m      1\u001b[0m \u001b[38;5;28;01mimport\u001b[39;00m \u001b[38;5;21;01mpandas\u001b[39;00m \u001b[38;5;28;01mas\u001b[39;00m \u001b[38;5;21;01mpd\u001b[39;00m\n\u001b[0;32m----> 3\u001b[0m df \u001b[38;5;241m=\u001b[39m \u001b[43mpd\u001b[49m\u001b[38;5;241;43m.\u001b[39;49m\u001b[43mread_csv\u001b[49m\u001b[43m(\u001b[49m\u001b[38;5;124;43m'\u001b[39;49m\u001b[38;5;124;43mgr_data_cleaned.csv\u001b[39;49m\u001b[38;5;124;43m'\u001b[39;49m\u001b[43m)\u001b[49m\n",
      "File \u001b[0;32m~/.local/lib/python3.10/site-packages/pandas/io/parsers/readers.py:1026\u001b[0m, in \u001b[0;36mread_csv\u001b[0;34m(filepath_or_buffer, sep, delimiter, header, names, index_col, usecols, dtype, engine, converters, true_values, false_values, skipinitialspace, skiprows, skipfooter, nrows, na_values, keep_default_na, na_filter, verbose, skip_blank_lines, parse_dates, infer_datetime_format, keep_date_col, date_parser, date_format, dayfirst, cache_dates, iterator, chunksize, compression, thousands, decimal, lineterminator, quotechar, quoting, doublequote, escapechar, comment, encoding, encoding_errors, dialect, on_bad_lines, delim_whitespace, low_memory, memory_map, float_precision, storage_options, dtype_backend)\u001b[0m\n\u001b[1;32m   1013\u001b[0m kwds_defaults \u001b[38;5;241m=\u001b[39m _refine_defaults_read(\n\u001b[1;32m   1014\u001b[0m     dialect,\n\u001b[1;32m   1015\u001b[0m     delimiter,\n\u001b[0;32m   (...)\u001b[0m\n\u001b[1;32m   1022\u001b[0m     dtype_backend\u001b[38;5;241m=\u001b[39mdtype_backend,\n\u001b[1;32m   1023\u001b[0m )\n\u001b[1;32m   1024\u001b[0m kwds\u001b[38;5;241m.\u001b[39mupdate(kwds_defaults)\n\u001b[0;32m-> 1026\u001b[0m \u001b[38;5;28;01mreturn\u001b[39;00m \u001b[43m_read\u001b[49m\u001b[43m(\u001b[49m\u001b[43mfilepath_or_buffer\u001b[49m\u001b[43m,\u001b[49m\u001b[43m \u001b[49m\u001b[43mkwds\u001b[49m\u001b[43m)\u001b[49m\n",
      "File \u001b[0;32m~/.local/lib/python3.10/site-packages/pandas/io/parsers/readers.py:620\u001b[0m, in \u001b[0;36m_read\u001b[0;34m(filepath_or_buffer, kwds)\u001b[0m\n\u001b[1;32m    617\u001b[0m _validate_names(kwds\u001b[38;5;241m.\u001b[39mget(\u001b[38;5;124m\"\u001b[39m\u001b[38;5;124mnames\u001b[39m\u001b[38;5;124m\"\u001b[39m, \u001b[38;5;28;01mNone\u001b[39;00m))\n\u001b[1;32m    619\u001b[0m \u001b[38;5;66;03m# Create the parser.\u001b[39;00m\n\u001b[0;32m--> 620\u001b[0m parser \u001b[38;5;241m=\u001b[39m \u001b[43mTextFileReader\u001b[49m\u001b[43m(\u001b[49m\u001b[43mfilepath_or_buffer\u001b[49m\u001b[43m,\u001b[49m\u001b[43m \u001b[49m\u001b[38;5;241;43m*\u001b[39;49m\u001b[38;5;241;43m*\u001b[39;49m\u001b[43mkwds\u001b[49m\u001b[43m)\u001b[49m\n\u001b[1;32m    622\u001b[0m \u001b[38;5;28;01mif\u001b[39;00m chunksize \u001b[38;5;129;01mor\u001b[39;00m iterator:\n\u001b[1;32m    623\u001b[0m     \u001b[38;5;28;01mreturn\u001b[39;00m parser\n",
      "File \u001b[0;32m~/.local/lib/python3.10/site-packages/pandas/io/parsers/readers.py:1620\u001b[0m, in \u001b[0;36mTextFileReader.__init__\u001b[0;34m(self, f, engine, **kwds)\u001b[0m\n\u001b[1;32m   1617\u001b[0m     \u001b[38;5;28mself\u001b[39m\u001b[38;5;241m.\u001b[39moptions[\u001b[38;5;124m\"\u001b[39m\u001b[38;5;124mhas_index_names\u001b[39m\u001b[38;5;124m\"\u001b[39m] \u001b[38;5;241m=\u001b[39m kwds[\u001b[38;5;124m\"\u001b[39m\u001b[38;5;124mhas_index_names\u001b[39m\u001b[38;5;124m\"\u001b[39m]\n\u001b[1;32m   1619\u001b[0m \u001b[38;5;28mself\u001b[39m\u001b[38;5;241m.\u001b[39mhandles: IOHandles \u001b[38;5;241m|\u001b[39m \u001b[38;5;28;01mNone\u001b[39;00m \u001b[38;5;241m=\u001b[39m \u001b[38;5;28;01mNone\u001b[39;00m\n\u001b[0;32m-> 1620\u001b[0m \u001b[38;5;28mself\u001b[39m\u001b[38;5;241m.\u001b[39m_engine \u001b[38;5;241m=\u001b[39m \u001b[38;5;28;43mself\u001b[39;49m\u001b[38;5;241;43m.\u001b[39;49m\u001b[43m_make_engine\u001b[49m\u001b[43m(\u001b[49m\u001b[43mf\u001b[49m\u001b[43m,\u001b[49m\u001b[43m \u001b[49m\u001b[38;5;28;43mself\u001b[39;49m\u001b[38;5;241;43m.\u001b[39;49m\u001b[43mengine\u001b[49m\u001b[43m)\u001b[49m\n",
      "File \u001b[0;32m~/.local/lib/python3.10/site-packages/pandas/io/parsers/readers.py:1880\u001b[0m, in \u001b[0;36mTextFileReader._make_engine\u001b[0;34m(self, f, engine)\u001b[0m\n\u001b[1;32m   1878\u001b[0m     \u001b[38;5;28;01mif\u001b[39;00m \u001b[38;5;124m\"\u001b[39m\u001b[38;5;124mb\u001b[39m\u001b[38;5;124m\"\u001b[39m \u001b[38;5;129;01mnot\u001b[39;00m \u001b[38;5;129;01min\u001b[39;00m mode:\n\u001b[1;32m   1879\u001b[0m         mode \u001b[38;5;241m+\u001b[39m\u001b[38;5;241m=\u001b[39m \u001b[38;5;124m\"\u001b[39m\u001b[38;5;124mb\u001b[39m\u001b[38;5;124m\"\u001b[39m\n\u001b[0;32m-> 1880\u001b[0m \u001b[38;5;28mself\u001b[39m\u001b[38;5;241m.\u001b[39mhandles \u001b[38;5;241m=\u001b[39m \u001b[43mget_handle\u001b[49m\u001b[43m(\u001b[49m\n\u001b[1;32m   1881\u001b[0m \u001b[43m    \u001b[49m\u001b[43mf\u001b[49m\u001b[43m,\u001b[49m\n\u001b[1;32m   1882\u001b[0m \u001b[43m    \u001b[49m\u001b[43mmode\u001b[49m\u001b[43m,\u001b[49m\n\u001b[1;32m   1883\u001b[0m \u001b[43m    \u001b[49m\u001b[43mencoding\u001b[49m\u001b[38;5;241;43m=\u001b[39;49m\u001b[38;5;28;43mself\u001b[39;49m\u001b[38;5;241;43m.\u001b[39;49m\u001b[43moptions\u001b[49m\u001b[38;5;241;43m.\u001b[39;49m\u001b[43mget\u001b[49m\u001b[43m(\u001b[49m\u001b[38;5;124;43m\"\u001b[39;49m\u001b[38;5;124;43mencoding\u001b[39;49m\u001b[38;5;124;43m\"\u001b[39;49m\u001b[43m,\u001b[49m\u001b[43m \u001b[49m\u001b[38;5;28;43;01mNone\u001b[39;49;00m\u001b[43m)\u001b[49m\u001b[43m,\u001b[49m\n\u001b[1;32m   1884\u001b[0m \u001b[43m    \u001b[49m\u001b[43mcompression\u001b[49m\u001b[38;5;241;43m=\u001b[39;49m\u001b[38;5;28;43mself\u001b[39;49m\u001b[38;5;241;43m.\u001b[39;49m\u001b[43moptions\u001b[49m\u001b[38;5;241;43m.\u001b[39;49m\u001b[43mget\u001b[49m\u001b[43m(\u001b[49m\u001b[38;5;124;43m\"\u001b[39;49m\u001b[38;5;124;43mcompression\u001b[39;49m\u001b[38;5;124;43m\"\u001b[39;49m\u001b[43m,\u001b[49m\u001b[43m \u001b[49m\u001b[38;5;28;43;01mNone\u001b[39;49;00m\u001b[43m)\u001b[49m\u001b[43m,\u001b[49m\n\u001b[1;32m   1885\u001b[0m \u001b[43m    \u001b[49m\u001b[43mmemory_map\u001b[49m\u001b[38;5;241;43m=\u001b[39;49m\u001b[38;5;28;43mself\u001b[39;49m\u001b[38;5;241;43m.\u001b[39;49m\u001b[43moptions\u001b[49m\u001b[38;5;241;43m.\u001b[39;49m\u001b[43mget\u001b[49m\u001b[43m(\u001b[49m\u001b[38;5;124;43m\"\u001b[39;49m\u001b[38;5;124;43mmemory_map\u001b[39;49m\u001b[38;5;124;43m\"\u001b[39;49m\u001b[43m,\u001b[49m\u001b[43m \u001b[49m\u001b[38;5;28;43;01mFalse\u001b[39;49;00m\u001b[43m)\u001b[49m\u001b[43m,\u001b[49m\n\u001b[1;32m   1886\u001b[0m \u001b[43m    \u001b[49m\u001b[43mis_text\u001b[49m\u001b[38;5;241;43m=\u001b[39;49m\u001b[43mis_text\u001b[49m\u001b[43m,\u001b[49m\n\u001b[1;32m   1887\u001b[0m \u001b[43m    \u001b[49m\u001b[43merrors\u001b[49m\u001b[38;5;241;43m=\u001b[39;49m\u001b[38;5;28;43mself\u001b[39;49m\u001b[38;5;241;43m.\u001b[39;49m\u001b[43moptions\u001b[49m\u001b[38;5;241;43m.\u001b[39;49m\u001b[43mget\u001b[49m\u001b[43m(\u001b[49m\u001b[38;5;124;43m\"\u001b[39;49m\u001b[38;5;124;43mencoding_errors\u001b[39;49m\u001b[38;5;124;43m\"\u001b[39;49m\u001b[43m,\u001b[49m\u001b[43m \u001b[49m\u001b[38;5;124;43m\"\u001b[39;49m\u001b[38;5;124;43mstrict\u001b[39;49m\u001b[38;5;124;43m\"\u001b[39;49m\u001b[43m)\u001b[49m\u001b[43m,\u001b[49m\n\u001b[1;32m   1888\u001b[0m \u001b[43m    \u001b[49m\u001b[43mstorage_options\u001b[49m\u001b[38;5;241;43m=\u001b[39;49m\u001b[38;5;28;43mself\u001b[39;49m\u001b[38;5;241;43m.\u001b[39;49m\u001b[43moptions\u001b[49m\u001b[38;5;241;43m.\u001b[39;49m\u001b[43mget\u001b[49m\u001b[43m(\u001b[49m\u001b[38;5;124;43m\"\u001b[39;49m\u001b[38;5;124;43mstorage_options\u001b[39;49m\u001b[38;5;124;43m\"\u001b[39;49m\u001b[43m,\u001b[49m\u001b[43m \u001b[49m\u001b[38;5;28;43;01mNone\u001b[39;49;00m\u001b[43m)\u001b[49m\u001b[43m,\u001b[49m\n\u001b[1;32m   1889\u001b[0m \u001b[43m\u001b[49m\u001b[43m)\u001b[49m\n\u001b[1;32m   1890\u001b[0m \u001b[38;5;28;01massert\u001b[39;00m \u001b[38;5;28mself\u001b[39m\u001b[38;5;241m.\u001b[39mhandles \u001b[38;5;129;01mis\u001b[39;00m \u001b[38;5;129;01mnot\u001b[39;00m \u001b[38;5;28;01mNone\u001b[39;00m\n\u001b[1;32m   1891\u001b[0m f \u001b[38;5;241m=\u001b[39m \u001b[38;5;28mself\u001b[39m\u001b[38;5;241m.\u001b[39mhandles\u001b[38;5;241m.\u001b[39mhandle\n",
      "File \u001b[0;32m~/.local/lib/python3.10/site-packages/pandas/io/common.py:873\u001b[0m, in \u001b[0;36mget_handle\u001b[0;34m(path_or_buf, mode, encoding, compression, memory_map, is_text, errors, storage_options)\u001b[0m\n\u001b[1;32m    868\u001b[0m \u001b[38;5;28;01melif\u001b[39;00m \u001b[38;5;28misinstance\u001b[39m(handle, \u001b[38;5;28mstr\u001b[39m):\n\u001b[1;32m    869\u001b[0m     \u001b[38;5;66;03m# Check whether the filename is to be opened in binary mode.\u001b[39;00m\n\u001b[1;32m    870\u001b[0m     \u001b[38;5;66;03m# Binary mode does not support 'encoding' and 'newline'.\u001b[39;00m\n\u001b[1;32m    871\u001b[0m     \u001b[38;5;28;01mif\u001b[39;00m ioargs\u001b[38;5;241m.\u001b[39mencoding \u001b[38;5;129;01mand\u001b[39;00m \u001b[38;5;124m\"\u001b[39m\u001b[38;5;124mb\u001b[39m\u001b[38;5;124m\"\u001b[39m \u001b[38;5;129;01mnot\u001b[39;00m \u001b[38;5;129;01min\u001b[39;00m ioargs\u001b[38;5;241m.\u001b[39mmode:\n\u001b[1;32m    872\u001b[0m         \u001b[38;5;66;03m# Encoding\u001b[39;00m\n\u001b[0;32m--> 873\u001b[0m         handle \u001b[38;5;241m=\u001b[39m \u001b[38;5;28;43mopen\u001b[39;49m\u001b[43m(\u001b[49m\n\u001b[1;32m    874\u001b[0m \u001b[43m            \u001b[49m\u001b[43mhandle\u001b[49m\u001b[43m,\u001b[49m\n\u001b[1;32m    875\u001b[0m \u001b[43m            \u001b[49m\u001b[43mioargs\u001b[49m\u001b[38;5;241;43m.\u001b[39;49m\u001b[43mmode\u001b[49m\u001b[43m,\u001b[49m\n\u001b[1;32m    876\u001b[0m \u001b[43m            \u001b[49m\u001b[43mencoding\u001b[49m\u001b[38;5;241;43m=\u001b[39;49m\u001b[43mioargs\u001b[49m\u001b[38;5;241;43m.\u001b[39;49m\u001b[43mencoding\u001b[49m\u001b[43m,\u001b[49m\n\u001b[1;32m    877\u001b[0m \u001b[43m            \u001b[49m\u001b[43merrors\u001b[49m\u001b[38;5;241;43m=\u001b[39;49m\u001b[43merrors\u001b[49m\u001b[43m,\u001b[49m\n\u001b[1;32m    878\u001b[0m \u001b[43m            \u001b[49m\u001b[43mnewline\u001b[49m\u001b[38;5;241;43m=\u001b[39;49m\u001b[38;5;124;43m\"\u001b[39;49m\u001b[38;5;124;43m\"\u001b[39;49m\u001b[43m,\u001b[49m\n\u001b[1;32m    879\u001b[0m \u001b[43m        \u001b[49m\u001b[43m)\u001b[49m\n\u001b[1;32m    880\u001b[0m     \u001b[38;5;28;01melse\u001b[39;00m:\n\u001b[1;32m    881\u001b[0m         \u001b[38;5;66;03m# Binary mode\u001b[39;00m\n\u001b[1;32m    882\u001b[0m         handle \u001b[38;5;241m=\u001b[39m \u001b[38;5;28mopen\u001b[39m(handle, ioargs\u001b[38;5;241m.\u001b[39mmode)\n",
      "\u001b[0;31mFileNotFoundError\u001b[0m: [Errno 2] No such file or directory: 'gr_data_cleaned.csv'"
     ]
    }
   ],
   "source": [
    "import pandas as pd\n",
    "\n",
    "df = pd.read_csv('gr_data_cleaned.csv')"
   ]
  },
  {
   "cell_type": "code",
   "execution_count": 2,
   "id": "60bac584",
   "metadata": {},
   "outputs": [],
   "source": [
    "#!/usr/bin/env python\n",
    "# -*- coding: utf-8 -*-\n",
    "\n",
    "\"\"\"\n",
    "Garchen Rinpoche STT Benchmark Data Sampler\n",
    "\n",
    "This script creates a well-distributed benchmark dataset for speech recognition evaluation.\n",
    "It uses stratified sampling to ensure the benchmark represents various audio conditions.\n",
    "\"\"\"\n",
    "\n",
    "import pandas as pd\n",
    "import numpy as np\n",
    "from datetime import datetime\n",
    "import os\n",
    "import json\n",
    "import re\n",
    "from collections import Counter, defaultdict\n",
    "\n",
    "# Configuration\n",
    "SEGMENTS_PER_STRATUM = 130   # Target number of segments to select from each stratum\n",
    "MIN_SEGMENT_DURATION = 0.5  # Minimum duration in seconds for segments to be considered\n",
    "MAX_SEGMENT_DURATION = 30.0 # Maximum duration in seconds for segments to be considered\n",
    "RANDOM_SEED = 42  # For reproducibility\n",
    "OUTPUT_DIR = \"benchmark\"\n",
    "\n",
    "def parse_duration(time_str):\n",
    "    \"\"\"Convert time string (HH:MM:SS) to seconds\"\"\"\n",
    "    if pd.isna(time_str):\n",
    "        return 0\n",
    "    h, m, s = map(int, time_str.split(':'))\n",
    "    return h * 3600 + m * 60 + s\n",
    "\n",
    "def duration_category(seconds):\n",
    "    \"\"\"Categorize duration into short, medium, long\"\"\"\n",
    "    if seconds < 300:  # Less than 5 minutes\n",
    "        return \"short\"\n",
    "    elif seconds < 900:  # Less than 15 minutes\n",
    "        return \"medium\"\n",
    "    else:\n",
    "        return \"long\"\n",
    "\n",
    "def extract_content_type(filename):\n",
    "    \"\"\"Extract content type from filename\"\"\"\n",
    "    lower_name = filename.lower()\n",
    "    if \"qa\" in lower_name:\n",
    "        return \"Q&A\"\n",
    "    elif \"practice\" in lower_name:\n",
    "        return \"Practice\"\n",
    "    elif \"dedication\" in lower_name or \"prayer\" in lower_name:\n",
    "        return \"Prayer\"\n",
    "    else:\n",
    "        return \"Teaching\"\n",
    "\n",
    "def extract_original_id(segment_id):\n",
    "    \"\"\"Extract original file ID from a segment ID\n",
    "    e.g., STT_GR_0001_0003_22300_to_27800 -> STT_GR_0001\n",
    "    \"\"\"\n",
    "    match = re.match(r'(STT_GR_\\d+)_', segment_id)\n",
    "    if match:\n",
    "        return match.group(1)\n",
    "    return segment_id\n",
    "\n",
    "   "
   ]
  },
  {
   "cell_type": "code",
   "execution_count": null,
   "id": "1c3078c8",
   "metadata": {},
   "outputs": [
    {
     "name": "stdout",
     "output_type": "stream",
     "text": [
      "Original catalog contains 38 audio files\n",
      "Split segments dataset contains 13786 segments\n",
      "Found 13786 segments within duration range 0.5-30.0 seconds\n",
      "Found 13786 segments with valid strata information\n",
      "\n",
      "Found 8 unique strata combinations\n",
      "Strata distribution:\n",
      "  70-80__short__Teaching: 213 segments\n",
      "  70-80__long__Teaching: 2279 segments\n",
      "  70-80__medium__Teaching: 1085 segments\n",
      "  70-80__long__Q&A: 704 segments\n",
      "  70-80__long__Prayer: 479 segments\n",
      "  70-80__medium__Prayer: 201 segments\n",
      "  70-80__medium__Q&A: 68 segments\n",
      "  80-90__long__Practice: 8757 segments\n"
     ]
    }
   ],
   "source": [
    "# Create output directory\n",
    "os.makedirs(OUTPUT_DIR, exist_ok=True)\n",
    "    \n",
    "# Read catalog data (original files)\n",
    "catalog_df = pd.read_csv(\"gr_catalog.csv\")\n",
    "    \n",
    "# Read split segments data \n",
    "# replace with transcribed cleaned files\n",
    "segments_df = pd.read_csv(\"GR.csv\")\n",
    "    \n",
    "print(f\"Original catalog contains {len(catalog_df)} audio files\")\n",
    "print(f\"Split segments dataset contains {len(segments_df)} segments\")\n",
    "    \n",
    "# Filter segments by duration\n",
    "segments_df['audio_duration'] = segments_df['audio_duration'].astype(float)\n",
    "valid_segments = segments_df[\n",
    "    (segments_df['audio_duration'] >= MIN_SEGMENT_DURATION) & \n",
    "    (segments_df['audio_duration'] <= MAX_SEGMENT_DURATION)\n",
    "]\n",
    "print(f\"Found {len(valid_segments)} segments within duration range {MIN_SEGMENT_DURATION}-{MAX_SEGMENT_DURATION} seconds\")\n",
    "\n",
    "# Add original file ID to segments\n",
    "valid_segments['original_id'] = valid_segments['file_name'].apply(extract_original_id)\n",
    "\n",
    "# Add derived metrics to catalog\n",
    "catalog_df['split_duration_seconds'] = catalog_df['Original Full Audio Duration'].apply(parse_duration)\n",
    "catalog_df['duration_category'] = catalog_df['split_duration_seconds'].apply(duration_category)\n",
    "catalog_df['content_type'] = catalog_df['Filename'].apply(extract_content_type)\n",
    "\n",
    "# Create strata in catalog\n",
    "catalog_df['strata'] = catalog_df.apply(\n",
    "    lambda row: f\"{row['AGE']}__{row['duration_category']}__{row['content_type']}\",\n",
    "    axis=1\n",
    ")\n",
    "\n",
    "# Create ID to strata mapping\n",
    "id_to_strata = dict(zip(catalog_df['ID'], catalog_df['strata']))\n",
    "id_to_metadata = catalog_df.set_index('ID')[['AGE', 'duration_category', 'content_type']].to_dict('index')\n",
    "\n",
    "# Map segments to strata\n",
    "valid_segments['strata'] = valid_segments['original_id'].map(id_to_strata)\n",
    "\n",
    "# Drop segments without strata (meaning they don't match any original file)\n",
    "valid_segments = valid_segments.dropna(subset=['strata'])\n",
    "print(f\"Found {len(valid_segments)} segments with valid strata information\")\n",
    "\n",
    "# Count unique strata\n",
    "strata_counts = Counter(valid_segments['strata'])\n",
    "print(f\"\\nFound {len(strata_counts)} unique strata combinations\")\n",
    "print(\"Strata distribution:\")\n",
    "for stratum, count in strata_counts.items():\n",
    "    print(f\"  {stratum}: {count} segments\")"
   ]
  },
  {
   "cell_type": "code",
   "execution_count": 6,
   "id": "003d1179",
   "metadata": {},
   "outputs": [],
   "source": [
    "df_benchmark = pd.read_csv('benchmark_segments.csv')"
   ]
  },
  {
   "cell_type": "code",
   "execution_count": 9,
   "id": "71204c7e",
   "metadata": {},
   "outputs": [
    {
     "data": {
      "text/html": [
       "<div>\n",
       "<style scoped>\n",
       "    .dataframe tbody tr th:only-of-type {\n",
       "        vertical-align: middle;\n",
       "    }\n",
       "\n",
       "    .dataframe tbody tr th {\n",
       "        vertical-align: top;\n",
       "    }\n",
       "\n",
       "    .dataframe thead th {\n",
       "        text-align: right;\n",
       "    }\n",
       "</style>\n",
       "<table border=\"1\" class=\"dataframe\">\n",
       "  <thead>\n",
       "    <tr style=\"text-align: right;\">\n",
       "      <th></th>\n",
       "      <th>file_name</th>\n",
       "      <th>url</th>\n",
       "      <th>inference_transcript</th>\n",
       "      <th>audio_duration</th>\n",
       "      <th>original_id</th>\n",
       "      <th>strata</th>\n",
       "    </tr>\n",
       "  </thead>\n",
       "  <tbody>\n",
       "    <tr>\n",
       "      <th>0</th>\n",
       "      <td>STT_GR_0001_0001_13400_to_17100</td>\n",
       "      <td>https://d38pmlk0v88drf.cloudfront.net/wav16k/S...</td>\n",
       "      <td>ཨ་འོ་ན། ཆུ་ྲོང་རྣམ་པ་ལ་དེ་རིང་སྔགས་འགྲོ་ཡ།</td>\n",
       "      <td>3.7</td>\n",
       "      <td>STT_GR_0001</td>\n",
       "      <td>70-80__short__Teaching</td>\n",
       "    </tr>\n",
       "    <tr>\n",
       "      <th>1</th>\n",
       "      <td>STT_GR_0001_0002_17400_to_21800</td>\n",
       "      <td>https://d38pmlk0v88drf.cloudfront.net/wav16k/S...</td>\n",
       "      <td>ཨེ་དེ་རིང་བླ་མའི་རྣམ་རབྱོག་གི་སྒོ་ནས་རང་གི་གང་...</td>\n",
       "      <td>4.4</td>\n",
       "      <td>STT_GR_0001</td>\n",
       "      <td>70-80__short__Teaching</td>\n",
       "    </tr>\n",
       "    <tr>\n",
       "      <th>2</th>\n",
       "      <td>STT_GR_0001_0003_22300_to_27800</td>\n",
       "      <td>https://d38pmlk0v88drf.cloudfront.net/wav16k/S...</td>\n",
       "      <td>དེ་ནས་ཡིན་ན་ད་ལྟ། ཨ། ཅུ་གྲོགས་ སང་ཉིན་རྣམ་པ་མྟ...</td>\n",
       "      <td>5.5</td>\n",
       "      <td>STT_GR_0001</td>\n",
       "      <td>70-80__short__Teaching</td>\n",
       "    </tr>\n",
       "    <tr>\n",
       "      <th>3</th>\n",
       "      <td>STT_GR_0001_0004_28900_to_31600</td>\n",
       "      <td>https://d38pmlk0v88drf.cloudfront.net/wav16k/S...</td>\n",
       "      <td>ཨེ་ད་རང་གི་</td>\n",
       "      <td>2.7</td>\n",
       "      <td>STT_GR_0001</td>\n",
       "      <td>70-80__short__Teaching</td>\n",
       "    </tr>\n",
       "    <tr>\n",
       "      <th>4</th>\n",
       "      <td>STT_GR_0001_0005_32900_to_57900</td>\n",
       "      <td>https://d38pmlk0v88drf.cloudfront.net/wav16k/S...</td>\n",
       "      <td>ཐུ་བསམ་གི་མགྱོག་པ་གང ཞེ་དྲག་ཡོད་མ་རེད། ད་རང་གི...</td>\n",
       "      <td>25.0</td>\n",
       "      <td>STT_GR_0001</td>\n",
       "      <td>70-80__short__Teaching</td>\n",
       "    </tr>\n",
       "  </tbody>\n",
       "</table>\n",
       "</div>"
      ],
      "text/plain": [
       "                         file_name  \\\n",
       "0  STT_GR_0001_0001_13400_to_17100   \n",
       "1  STT_GR_0001_0002_17400_to_21800   \n",
       "2  STT_GR_0001_0003_22300_to_27800   \n",
       "3  STT_GR_0001_0004_28900_to_31600   \n",
       "4  STT_GR_0001_0005_32900_to_57900   \n",
       "\n",
       "                                                 url  \\\n",
       "0  https://d38pmlk0v88drf.cloudfront.net/wav16k/S...   \n",
       "1  https://d38pmlk0v88drf.cloudfront.net/wav16k/S...   \n",
       "2  https://d38pmlk0v88drf.cloudfront.net/wav16k/S...   \n",
       "3  https://d38pmlk0v88drf.cloudfront.net/wav16k/S...   \n",
       "4  https://d38pmlk0v88drf.cloudfront.net/wav16k/S...   \n",
       "\n",
       "                                inference_transcript  audio_duration  \\\n",
       "0       ཨ་འོ་ན། ཆུ་ྲོང་རྣམ་པ་ལ་དེ་རིང་སྔགས་འགྲོ་ཡ།               3.7   \n",
       "1  ཨེ་དེ་རིང་བླ་མའི་རྣམ་རབྱོག་གི་སྒོ་ནས་རང་གི་གང་...             4.4   \n",
       "2  དེ་ནས་ཡིན་ན་ད་ལྟ། ཨ། ཅུ་གྲོགས་ སང་ཉིན་རྣམ་པ་མྟ...             5.5   \n",
       "3                                       ཨེ་ད་རང་གི་              2.7   \n",
       "4  ཐུ་བསམ་གི་མགྱོག་པ་གང ཞེ་དྲག་ཡོད་མ་རེད། ད་རང་གི...            25.0   \n",
       "\n",
       "   original_id                  strata  \n",
       "0  STT_GR_0001  70-80__short__Teaching  \n",
       "1  STT_GR_0001  70-80__short__Teaching  \n",
       "2  STT_GR_0001  70-80__short__Teaching  \n",
       "3  STT_GR_0001  70-80__short__Teaching  \n",
       "4  STT_GR_0001  70-80__short__Teaching  "
      ]
     },
     "execution_count": 9,
     "metadata": {},
     "output_type": "execute_result"
    }
   ],
   "source": [
    "valid_segments.head()"
   ]
  },
  {
   "cell_type": "code",
   "execution_count": 10,
   "id": "e86458c0",
   "metadata": {},
   "outputs": [],
   "source": [
    "df = valid_segments[~valid_segments['file_name'].isin(df_benchmark['file_name'])]"
   ]
  },
  {
   "cell_type": "code",
   "execution_count": 11,
   "id": "de215e1a",
   "metadata": {},
   "outputs": [
    {
     "name": "stdout",
     "output_type": "stream",
     "text": [
      "Defaulting to user installation because normal site-packages is not writeable\n",
      "Requirement already satisfied: scikit-learn in /home/gangagyatso/.local/lib/python3.10/site-packages (1.5.2)\n",
      "Requirement already satisfied: numpy>=1.19.5 in /home/gangagyatso/.local/lib/python3.10/site-packages (from scikit-learn) (2.1.1)\n",
      "Requirement already satisfied: scipy>=1.6.0 in /home/gangagyatso/.local/lib/python3.10/site-packages (from scikit-learn) (1.14.1)\n",
      "Requirement already satisfied: joblib>=1.2.0 in /home/gangagyatso/.local/lib/python3.10/site-packages (from scikit-learn) (1.4.2)\n",
      "Requirement already satisfied: threadpoolctl>=3.1.0 in /home/gangagyatso/.local/lib/python3.10/site-packages (from scikit-learn) (3.5.0)\n"
     ]
    }
   ],
   "source": [
    "! pip install scikit-learn"
   ]
  },
  {
   "cell_type": "code",
   "execution_count": 12,
   "id": "1a063b18",
   "metadata": {},
   "outputs": [],
   "source": [
    "from sklearn.model_selection import train_test_split\n",
    "\n",
    "# Splitting the data\n",
    "train, val = train_test_split(df, test_size=0.10, random_state=42, stratify=df['strata'])"
   ]
  },
  {
   "cell_type": "code",
   "execution_count": null,
   "id": "76046cb5",
   "metadata": {},
   "outputs": [],
   "source": [
    "train.to_csv('train.csv', index=False)\n",
    "val.to_csv('validation.csv',   index=False)"
   ]
  },
  {
   "cell_type": "code",
   "execution_count": null,
   "id": "3984e088",
   "metadata": {},
   "outputs": [],
   "source": [
    "from datasets import Dataset, DatasetDict\n",
    "from huggingface_hub import notebook_login\n",
    "\n",
    "# First, login to Hugging Face\n",
    "notebook_login()"
   ]
  },
  {
   "cell_type": "code",
   "execution_count": null,
   "id": "be9a8351",
   "metadata": {},
   "outputs": [],
   "source": [
    "\n",
    "\n",
    "# Convert pandas DataFrames to Hugging Face Dataset objects\n",
    "train_dataset = Dataset.from_pandas(train)\n",
    "val_dataset = Dataset.from_pandas(val)\n",
    "\n",
    "# Create a DatasetDict with all splits\n",
    "dataset_dict = DatasetDict({\n",
    "    \"train\": train_dataset,\n",
    "    \"validation\": val_dataset,\n",
    "})\n",
    "\n",
    "# Push to the Hugging Face Hub\n",
    "dataset_dict.push_to_hub(\n",
    "    \"ganga4364/garchen_rinpoche_data\",  # Replace with your username and desired dataset name\n",
    "    private=False  # Set to True if you want the dataset to be private\n",
    ")"
   ]
  }
 ],
 "metadata": {
  "kernelspec": {
   "display_name": "Python 3",
   "language": "python",
   "name": "python3"
  },
  "language_info": {
   "codemirror_mode": {
    "name": "ipython",
    "version": 3
   },
   "file_extension": ".py",
   "mimetype": "text/x-python",
   "name": "python",
   "nbconvert_exporter": "python",
   "pygments_lexer": "ipython3",
   "version": "3.10.12"
  }
 },
 "nbformat": 4,
 "nbformat_minor": 5
}
